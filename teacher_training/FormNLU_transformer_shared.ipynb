{
  "cells": [
    {
      "cell_type": "markdown",
      "metadata": {
        "id": "K2g27SGbWbn2"
      },
      "source": [
        "## Evironment Setup"
      ]
    },
    {
      "cell_type": "code",
      "execution_count": null,
      "metadata": {
        "id": "aN2boj9AU44t",
        "colab": {
          "base_uri": "https://localhost:8080/"
        },
        "outputId": "51d67e9a-4c25-478a-d9c8-f6ff857760d8"
      },
      "outputs": [
        {
          "output_type": "stream",
          "name": "stdout",
          "text": [
            "\u001b[2K     \u001b[90m━━━━━━━━━━━━━━━━━━━━━━━━━━━━━━━━━━━━━━━━\u001b[0m \u001b[32m507.1/507.1 kB\u001b[0m \u001b[31m7.5 MB/s\u001b[0m eta \u001b[36m0:00:00\u001b[0m\n",
            "\u001b[2K     \u001b[90m━━━━━━━━━━━━━━━━━━━━━━━━━━━━━━━━━━━━━━━━\u001b[0m \u001b[32m1.3/1.3 MB\u001b[0m \u001b[31m18.2 MB/s\u001b[0m eta \u001b[36m0:00:00\u001b[0m\n",
            "\u001b[2K     \u001b[90m━━━━━━━━━━━━━━━━━━━━━━━━━━━━━━━━━━━━━━━━\u001b[0m \u001b[32m115.3/115.3 kB\u001b[0m \u001b[31m13.6 MB/s\u001b[0m eta \u001b[36m0:00:00\u001b[0m\n",
            "\u001b[2K     \u001b[90m━━━━━━━━━━━━━━━━━━━━━━━━━━━━━━━━━━━━━━━━\u001b[0m \u001b[32m134.8/134.8 kB\u001b[0m \u001b[31m11.9 MB/s\u001b[0m eta \u001b[36m0:00:00\u001b[0m\n",
            "\u001b[2K     \u001b[90m━━━━━━━━━━━━━━━━━━━━━━━━━━━━━━━━━━━━━━━━\u001b[0m \u001b[32m134.8/134.8 kB\u001b[0m \u001b[31m11.7 MB/s\u001b[0m eta \u001b[36m0:00:00\u001b[0m\n",
            "\u001b[?25h"
          ]
        }
      ],
      "source": [
        "!pip install -q transformers datasets sentencepiece"
      ]
    },
    {
      "cell_type": "code",
      "source": [
        "# !nvidia-smi"
      ],
      "metadata": {
        "id": "UiH0ZiQLztI7"
      },
      "execution_count": null,
      "outputs": []
    },
    {
      "cell_type": "code",
      "execution_count": null,
      "metadata": {
        "id": "7DQ_VNaXVYa5"
      },
      "outputs": [],
      "source": [
        "# Importing the libraries needed\n",
        "import pandas as pd\n",
        "import numpy as np\n",
        "from sklearn.model_selection import train_test_split\n",
        "import torch\n",
        "import seaborn as sns\n",
        "import pickle\n",
        "import transformers\n",
        "import json\n",
        "import copy\n",
        "from os import listdir\n",
        "from PIL import Image\n",
        "import pprint\n",
        "\n",
        "from tqdm import tqdm\n",
        "from tqdm.notebook import tqdm\n",
        "from torch.utils.data import Dataset, DataLoader\n",
        "\n",
        "# from transformers import LxmertTokenizer, LxmertModel\n",
        "# tokenizer = LxmertTokenizer.from_pretrained('unc-nlp/lxmert-base-uncased')\n",
        "\n",
        "import torch.nn.functional as F\n",
        "from transformers import AdamW, AutoModel, set_seed\n",
        "import logging\n",
        "logging.basicConfig(level=logging.ERROR)\n"
      ]
    },
    {
      "cell_type": "code",
      "execution_count": null,
      "metadata": {
        "id": "VPrAJmI3Wxcl",
        "colab": {
          "base_uri": "https://localhost:8080/"
        },
        "outputId": "7a30a0ef-dff2-44da-c146-780a2d58bd9b"
      },
      "outputs": [
        {
          "output_type": "stream",
          "name": "stdout",
          "text": [
            "Mounted at /content/drive\n"
          ]
        }
      ],
      "source": [
        "from google.colab import drive\n",
        "drive.mount('/content/drive')"
      ]
    },
    {
      "cell_type": "code",
      "source": [
        "%cd /content/drive/MyDrive/00_torino_adnlp/"
      ],
      "metadata": {
        "id": "Yx52HX0d0oZS",
        "colab": {
          "base_uri": "https://localhost:8080/"
        },
        "outputId": "e74a5b32-95e1-4bb5-bf31-ede0e62ab74e"
      },
      "execution_count": null,
      "outputs": [
        {
          "output_type": "stream",
          "name": "stdout",
          "text": [
            "/content/drive/MyDrive/00_torino_adnlp\n"
          ]
        }
      ]
    },
    {
      "cell_type": "markdown",
      "source": [
        "| FormNLU     | Images | Title | Section | Table-Key | Table-Value | Form-Key | Form-Value |\n",
        "|-------------|--------|-------|---------|-----------|-------------|----------|------------|\n",
        "| Train       | 464+71 (535) |  1068 |    1560 |      2669 |        2672 |     3708 |       3568 |\n",
        "| Val         | 66+10 (76)  |   152 |     215 |       380 |         379 |      524 |        510 |\n",
        "| Test        | 131+15 (146) |   292 |     418 |       730 |         730 |     1009 |        978 |\n",
        "| Printed     |     50 |    98 |     148 |       250 |         249 |      346 |        332 |\n",
        "| HandWritten |     50 |   100 |     150 |       249 |         226 |      348 |        315 |"
      ],
      "metadata": {
        "id": "Tra9qySD1q0D"
      }
    },
    {
      "cell_type": "markdown",
      "source": [
        "      category_mapping = {\n",
        "          1: 'title', 2: 'section', 3: 'other', 4: 'form_key', 5: 'form_value', 6: 'table_key', 7: 'table_value'}"
      ],
      "metadata": {
        "id": "Fra_8InkAbmu"
      }
    },
    {
      "cell_type": "code",
      "source": [
        "# open pkl files\n",
        "\n",
        "with open('formnlu_features/formnlu_all_feat_lower_train.pkl', 'rb') as f:\n",
        "    train_all_feat = pickle.load(f)\n",
        "\n",
        "with open('formnlu_features/formnlu_all_feat_lower_val.pkl', 'rb') as f:\n",
        "    val_all_feat = pickle.load(f)\n",
        "\n",
        "with open('formnlu_features/formnlu_all_feat_lower_test.pkl', 'rb') as f:\n",
        "    test_all_feat = pickle.load(f)"
      ],
      "metadata": {
        "id": "8CWsCmYJb1e3"
      },
      "execution_count": null,
      "outputs": []
    },
    {
      "cell_type": "code",
      "source": [
        "print(train_all_feat.keys())\n",
        "print(train_all_feat['01502814_page-0'].keys())\n",
        "print(train_all_feat['01502814_page-0']['objects'][0].keys())\n",
        "print(len(train_all_feat.keys()))\n",
        "\n",
        "print(val_all_feat.keys())\n",
        "print(val_all_feat['00910692_page-1'].keys())\n",
        "print(val_all_feat['00910692_page-1']['objects'][0].keys())\n",
        "print(len(val_all_feat.keys()))\n",
        "\n",
        "print(test_all_feat.keys())\n",
        "print(test_all_feat['00917958_page-0'].keys())\n",
        "print(test_all_feat['00917958_page-0']['objects'][0].keys())\n",
        "print(len(test_all_feat.keys()))"
      ],
      "metadata": {
        "colab": {
          "base_uri": "https://localhost:8080/"
        },
        "id": "iCDLGobX1gQp",
        "outputId": "1e93b4e5-49f2-422d-ea7b-ef8c32ff82e3"
      },
      "execution_count": null,
      "outputs": [
        {
          "output_type": "stream",
          "name": "stdout",
          "text": [
            "dict_keys(['01502814_page-0', '01311266_page-0', '01312096_page-0', '01314156_page-0', '01322021_page-0', '01327411_page-0', '01327879_page-0', '01330181_page-0', '01330743_page-0', '01331561_page-0', '01333748_page-0', '01334844_page-0', '01339499_page-0', '01342494_page-0', '01344731_page-0', '01346455_page-0', '01355023_page-0', '01359605_page-1', '01359608_page-1', '01368409_page-0', '01369341_page-0', '01370460_page-0', '01370855_page-0', '01372560_page-0', '01373528_page-0', '01376050_page-0', '01381847_page-0', '01382283_page-0', '01382666_page-0', '01383077_page-0', '01384450_page-0', '01385004_page-1', '01393056_page-0', '01395037_page-0', '01396709_page-0', '01397263_page-0', '01398740_page-0', '01398791_page-1', '01400324_page-0', '01403379_page-0', '01406011_page-0', '01407789_page-0', '01408127_page-1', '01408579_page-0', '01408937_page-1', '01413192_page-0', '01421331_page-0', '01421595_page-0', '01424210_page-0', '01424827_page-0', '01425017_page-0', '01432424_page-0', '01434090_page-0', '01434157_page-0', '01435397_page-0', '01436999_page-0', '01439081_page-0', '01440779_page-0', '01441217_page-0', '01442368_page-0', '01446642_page-0', '01448138_page-0', '01452378_page-1', '01454962_page-0', '01455868_page-0', '01459361_page-1', '01462169_page-0', '01463761_page-1', '01464885_page-0', '01472217_page-0', '01473794_page-1', '01476190_page-0', '01476917_page-0', '01477794_page-0', '01478345_page-1', '01479355_page-0', '01479788_page-0', '01479846_page-1', '01480010_page-0', '01481191_page-1', '01481597_page-0', '01482090_page-0', '01484119_page-0', '01484625_page-1', '01487218_page-1', '01489247_page-0', '01495806_page-0', '01501691_page-0', '01502009_page-0', '01502028_page-0', '01502130_page-0', '01502710_page-1', '01502840_page-1', '01503079_page-0', '01503508_page-0', '01508941_page-0', '01509659_page-0', '01515190_page-1', '01516745_page-0', '01516794_page-0', '01517762_page-1', '01517771_page-0', '01518237_page-0', '01519161_page-0', '01519904_page-0', '01521299_page-0', '01521695_page-0', '01521696_page-0', '01523306_page-0', '01523814_page-1', '01523863_page-0', '01523908_page-0', '01525355_page-0', '01525615_page-0', '01527188_page-0', '01531783_page-0', '01531930_page-0', '01534974_page-0', '01537586_page-0', '01540292_page-0', '01540885_page-0', '01544791_page-0', '01547229_page-0', '01548979_page-0', '01550653_page-0', '01550729_page-0', '01554645_page-0', '01557226_page-0', '01560503_page-0', '01560646_page-0', '01562500_page-1', '01562999_page-0', '01563610_page-0', '01571021_page-0', '01572906_page-0', '01577396_page-0', '01578499_page-0', '01580853_page-1', '01581121_page-0', '01581788_page-1', '01583696_page-0', '01592117_page-0', '01596173_page-0', '01596756_page-0', '01598214_page-0', '01600595_page-1', '01601510_page-0', '01602642_page-0', '01604657_page-0', '01604855_page-0', '01607525_page-0', '01608411_page-0', '01609839_page-0', '01610227_page-0', '01614727_page-0', '01615135_page-0', '01615736_page-0', '01616049_page-0', '01616706_page-1', '01616961_page-0', '01617684_page-0', '01623407_page-0', '01623692_page-0', '01623887_page-0', '01624951_page-0', '01625472_page-0', '01625919_page-0', '01627400_page-1', '01628718_page-0', '00824775_page-1', '00824963_page-0', '00825033_page-1', '00825054_page-0', '00825081_page-1', '00825089_page-0', '00825143_page-0', '00825271_page-0', '00825279_page-0', '00825282_page-0', '00825284_page-0', '00825289_page-0', '00825377_page-0', '00825563_page-0', '00825802_page-0', '00825855_page-0', '00825855_page-3', '00825879_page-0', '00825947_page-0', '00825949_page-1', '00825960_page-0', '00826079_page-1', '00826168_page-0', '00826209_page-0', '00826739_page-0', '00826741_page-0', '00826826_page-1', '00826965_page-0', '00826989_page-0', '00827040_page-0', '00827082_page-0', '00827189_page-0', '00827208_page-0', '00827217_page-0', '00827219_page-0', '00827221_page-0', '00827223_page-0', '00827227_page-0', '00827233_page-0', '00827291_page-0', '00827293_page-0', '00827294_page-1', '00827299_page-0', '00827299_page-3', '00827302_page-0', '00827365_page-0', '00827669_page-0', '00827672_page-0', '00827701_page-0', '00827707_page-0', '00827715_page-0', '00827763_page-0', '00827863_page-1', '00827912_page-1', '00827918_page-0', '00827946_page-0', '00828164_page-0', '00828168_page-0', '00828169_page-0', '00828176_page-1', '00828198_page-0', '00828359_page-0', '00828400_page-0', '00828406_page-1', '00828414_page-0', '00828415_page-0', '00828557_page-1', '00828658_page-1', '00828705_page-1', '00828936_page-0', '00828995_page-0', '00829078_page-0', '00829102_page-1', '00829163_page-0', '00829197_page-0', '00829244_page-0', '00829253_page-0', '00829404_page-0', '00829616_page-0', '00829668_page-0', '00829681_page-1', '00829688_page-1', '00829722_page-2', '00829796_page-1', '00829920_page-0', '00830110_page-0', '00830227_page-0', '00830229_page-0', '00830234_page-0', '00830268_page-0', '00830275_page-0', '00830276_page-0', '00830277_page-0', '00830331_page-1', '00830368_page-0', '00830472_page-0', '00830541_page-0', '00830650_page-0', '00830686_page-0', '00830691_page-0', '00830695_page-0', '00830703_page-0', '00830704_page-0', '00830735_page-1', '00830768_page-1', '00830926_page-0', '00831106_page-0', '00831143_page-0', '00831144_page-0', '00831147_page-0', '00831148_page-1', '00831270_page-0', '00831274_page-0', '00831275_page-0', '00831319_page-0', '00831377_page-0', '00831454_page-0', '00831460_page-0', '00831509_page-1', '00831510_page-1', '00831683_page-0', '00831684_page-0', '00831739_page-0', '00831782_page-0', '00831809_page-1', '00831835_page-0', '00831850_page-0', '00831891_page-1', '00831901_page-0', '00832015_page-0', '00832109_page-1', '00832109_page-4', '00832162_page-1', '00832256_page-0', '00832271_page-0', '00832281_page-1', '00832500_page-0', '00832654_page-0', '00832662_page-1', '00832666_page-1', '00832672_page-1', '00832678_page-0', '00832964_page-0', '00832964_page-3', '00832964_page-6', '00832988_page-0', '00833013_page-0', '00833014_page-0', '00833017_page-0', '00833055_page-0', '00833056_page-0', '00833068_page-1', '00833281_page-0', '00833308_page-0', '00833483_page-1', '00833504_page-1', '00833658_page-0', '00833660_page-0', '00833695_page-0', '00833812_page-0', '00833963_page-1', '00833966_page-0', '00834204_page-0', '00834245_page-0', '00834246_page-0', '00834276_page-1', '00834277_page-1', '00834280_page-0', '00834330_page-0', '00834446_page-0', '00834562_page-1', '00834566_page-0', '00834576_page-0', '00834711_page-1', '00834823_page-1', '00834961_page-1', '00835056_page-0', '00835064_page-0', '00835067_page-0', '00835106_page-1', '00835223_page-0', '00835267_page-0', '00835270_page-1', '00835319_page-0', '00835355_page-0', '00835589_page-0', '00835653_page-1', '00835666_page-0', '00835669_page-1', '00835967_page-0', '00836147_page-1', '00836161_page-0', '00836222_page-1', '00836225_page-1', '00836260_page-0', '00836576_page-0', '00836577_page-0', '00836946_page-0', '00837176_page-0', '00837500_page-1', '00837531_page-1', '00837741_page-0', '00838180_page-0', '00838258_page-1', '00838326_page-1', '00838488_page-0', '00838517_page-0', '00838589_page-0', '00838655_page-0', '00838764_page-0', '00838810_page-0', '00838854_page-0', '00838900_page-0', '00838972_page-0', '00838977_page-1', '00838992_page-0', '00839069_page-1', '00839204_page-0', '00839314_page-0', '00839315_page-0', '00839316_page-0', '00839373_page-0', '00839416_page-0', '00839418_page-1', '00839487_page-0', '00839612_page-0', '00839630_page-0', '00839646_page-0', '00839759_page-0', '00839760_page-1', '00839768_page-0', '00839816_page-0', '00840032_page-0', '00840118_page-0', '00840234_page-0', '00840235_page-0', '00840262_page-0', '00840654_page-0', '00840657_page-1', '00840718_page-0', '00840874_page-1', '00840896_page-0', '00840898_page-0', '00840933_page-0', '00840977_page-0', '00841100_page-1', '00841297_page-1', '00841340_page-0', '00841679_page-0', '00841819_page-0', '00841857_page-0', '00841925_page-1', '00841975_page-0', '00841979_page-0', '00842097_page-1', '00842525_page-2', '00842679_page-0', '00842751_page-0', '00842855_page-0', '00842858_page-0', '00842887_page-0', '00843041_page-0', '00843051_page-0', '00843097_page-0', '00843366_page-1', '00843465_page-0', '00843469_page-0', '00843481_page-1', '00843618_page-0', '00843685_page-0', '00843699_page-0', '00844200_page-1', '00844202_page-0', '00844285_page-0', '00844291_page-0', '00844503_page-0', '00844590_page-0', '00844608_page-0', '00844636_page-0', '00844882_page-0', '00844904_page-1', '00844956_page-0', '00844991_page-0', '00845179_page-1', '00845286_page-0', '00845364_page-0', '00845366_page-0', '00845697_page-0', '00845794_page-0', '00845836_page-0', '00845853_page-1', '00846180_page-0', '00846314_page-0', '00846434_page-0', '00910606_page-0', '01323261_page-0', '01326042_page-1', '01331405_page-0', '01332256_page-0', '01339280_page-0', '01341240_page-0', '01353722_page-1', '01359382_page-0', '01372755_page-1', '01383027_page-0', '01386640_page-0', '01387343_page-0', '01389586_page-0', '01404680_page-0', '01423889_page-0', '01451023_page-0', '01481319_page-0', '01488853_page-1', '01506291_page-0', '01508305_page-0', '01522753_page-1', '01592918_page-1', '01626393_page-0', '01332360_page-0', '01360828_page-0', '01476944_page-0', '01565553_page-0', '01566484_page-0', '01575698_page-0', '00824829_page-0', '00825136_page-0', '00825178_page-1', '00825396_page-0', '00825617_page-0', '00825623_page-1', '00826024_page-1', '00826033_page-0', '00826090_page-0', '00826252_page-0', '00826426_page-0', '00826459_page-1', '00826583_page-0', '00826850_page-0', '00826885_page-2', '00827117_page-0', '00827352_page-0', '00827696_page-0', '00827772_page-0', '00827961_page-0', '00828195_page-0', '00828544_page-0', '00828719_page-0', '00828726_page-0', '00828855_page-0', '00829118_page-0', '00830169_page-0', '00830608_page-0', '00830793_page-0', '00831084_page-1', '00832064_page-0', '00832076_page-0', '00832514_page-0', '00833126_page-0', '00833719_page-0', '00834146_page-0', '00834147_page-0', '00834316_page-0', '00834568_page-0', '00835308_page-0', '00836054_page-0', '00836123_page-0'])\n",
            "dict_keys(['name', 'height', 'width', 'objects', 'object_list', 'visual_list'])\n",
            "dict_keys(['global_id', 'image_id', 'bbox', 'text', 'category_id', 'category_name', 'bert_cls'])\n",
            "535\n",
            "dict_keys(['00910692_page-1', '00910694_page-1', '00911015_page-1', '00911027_page-0', '00911029_page-0', '00911030_page-0', '00911037_page-1', '00911039_page-1', '00911156_page-1', '00911172_page-1', '00911390_page-0', '00911399_page-1', '00911443_page-0', '00911474_page-1', '00911526_page-1', '00911816_page-1', '00911930_page-1', '00911931_page-1', '00911933_page-1', '00912114_page-0', '00912408_page-0', '00912526_page-0', '00912623_page-1', '00912677_page-1', '00912985_page-1', '00913214_page-0', '00913235_page-0', '00913268_page-0', '00913924_page-0', '00913926_page-0', '00913929_page-0', '00913933_page-0', '00913934_page-0', '00914309_page-0', '00914310_page-0', '00914344_page-0', '00914345_page-1', '00914346_page-0', '00914347_page-1', '00914349_page-1', '00914377_page-0', '00914616_page-1', '00914630_page-0', '00914631_page-0', '00914637_page-1', '00914640_page-1', '00914987_page-1', '00915277_page-0', '00915279_page-0', '00915418_page-0', '00915918_page-1', '00916422_page-1', '00916694_page-1', '00916910_page-1', '00916935_page-1', '00917165_page-0', '00917332_page-1', '00917447_page-0', '00917531_page-0', '00917652_page-0', '00917653_page-0', '00917669_page-0', '00917714_page-0', '00917717_page-0', '00917749_page-1', '00917921_page-0', '00836339_page-0', '00836340_page-0', '00838702_page-0', '00838896_page-0', '00839284_page-0', '00839326_page-0', '00839327_page-0', '00839468_page-1', '00839611_page-0', '00840674_page-0'])\n",
            "dict_keys(['name', 'height', 'width', 'objects', 'object_list', 'visual_list'])\n",
            "dict_keys(['global_id', 'image_id', 'bbox', 'text', 'category_id', 'category_name', 'bert_cls'])\n",
            "76\n",
            "dict_keys(['00917958_page-0', '00918178_page-1', '00918204_page-0', '00918213_page-0', '00918232_page-0', '00918399_page-1', '00918569_page-0', '00918601_page-1', '00918606_page-1', '00918813_page-1', '00918815_page-0', '00919003_page-0', '00919007_page-0', '00919226_page-0', '00919336_page-0', '00919388_page-0', '00919389_page-0', '00919416_page-0', '00919624_page-0', '00919628_page-0', '00919689_page-0', '00919764_page-1', '00920161_page-1', '00920257_page-0', '00920382_page-0', '00920425_page-0', '00920713_page-0', '00920928_page-0', '00920951_page-0', '00921273_page-1', '00921290_page-0', '00921325_page-0', '00921356_page-0', '00921590_page-1', '00921644_page-0', '00921817_page-0', '00922064_page-0', '00922343_page-0', '00922440_page-0', '00922493_page-0', '00922546_page-0', '00922822_page-1', '00922942_page-0', '00922943_page-0', '00923338_page-0', '00923421_page-0', '00923814_page-1', '00924118_page-0', '00924437_page-1', '00924464_page-1', '00924621_page-0', '00924674_page-0', '00924710_page-0', '00924734_page-0', '00924757_page-0', '00924767_page-0', '00924819_page-0', '00924832_page-0', '00925053_page-0', '00925055_page-0', '00925059_page-0', '00925109_page-0', '00925233_page-0', '00925365_page-0', '00925386_page-0', '00925426_page-0', '00925495_page-1', '00925606_page-0', '00925696_page-0', '00925935_page-0', '00926033_page-0', '00926048_page-1', '00926108_page-0', '00926139_page-0', '00926437_page-0', '00926487_page-0', '00926597_page-0', '00926770_page-1', '00926782_page-1', '00926826_page-0', '00926913_page-0', '00926950_page-1', '00926953_page-1', '00927177_page-0', '00927210_page-0', '00927212_page-0', '00927516_page-0', '00927581_page-0', '00927610_page-0', '00928006_page-0', '00928436_page-0', '00928469_page-0', '00928502_page-0', '00928952_page-0', '00929142_page-0', '00929143_page-0', '00929146_page-0', '00929235_page-1', '00929302_page-0', '00929343_page-0', '00929775_page-0', '00929776_page-0', '00929793_page-0', '00930070_page-1', '00930241_page-0', '00930886_page-0', '00931452_page-0', '00932303_page-0', '00933494_page-0', '00933796_page-0', '00933798_page-0', '00933799_page-0', '00933999_page-0', '00934176_page-0', '00934491_page-0', '00934498_page-0', '00934502_page-0', '00934503_page-0', '00934748_page-0', '00934838_page-0', '00934842_page-0', '00935334_page-0', '00935586_page-0', '00935595_page-0', '00935689_page-0', '00936344_page-0', '00936399_page-0', '00936410_page-0', '00936992_page-0', '00937436_page-0', '00937785_page-0', '00840748_page-0', '00840861_page-0', '00842300_page-0', '00842346_page-0', '00842499_page-0', '00842551_page-0', '00842710_page-0', '00843409_page-0', '00844107_page-0', '00844108_page-0', '00844109_page-0', '00844209_page-0', '00844774_page-0', '00845315_page-0', '00846052_page-0'])\n",
            "dict_keys(['name', 'height', 'width', 'objects', 'object_list', 'visual_list'])\n",
            "dict_keys(['global_id', 'image_id', 'bbox', 'text', 'category_id', 'category_name', 'bert_cls'])\n",
            "146\n"
          ]
        }
      ]
    },
    {
      "cell_type": "code",
      "source": [
        "# data preprocessing\n",
        "# train : None\n",
        "\n",
        "train_sample = copy.deepcopy(train_all_feat)\n",
        "print(train_sample.keys())\n",
        "print(train_sample['01502814_page-0'].keys())\n",
        "print(train_sample['01502814_page-0']['objects'][0].keys())\n",
        "print(len(train_sample.keys()))"
      ],
      "metadata": {
        "colab": {
          "base_uri": "https://localhost:8080/"
        },
        "id": "OGbPwXiBTdLZ",
        "outputId": "ae3b5119-1292-45cc-9321-87ed65e39867"
      },
      "execution_count": null,
      "outputs": [
        {
          "output_type": "stream",
          "name": "stdout",
          "text": [
            "dict_keys(['01502814_page-0', '01311266_page-0', '01312096_page-0', '01314156_page-0', '01322021_page-0', '01327411_page-0', '01327879_page-0', '01330181_page-0', '01330743_page-0', '01331561_page-0', '01333748_page-0', '01334844_page-0', '01339499_page-0', '01342494_page-0', '01344731_page-0', '01346455_page-0', '01355023_page-0', '01359605_page-1', '01359608_page-1', '01368409_page-0', '01369341_page-0', '01370460_page-0', '01370855_page-0', '01372560_page-0', '01373528_page-0', '01376050_page-0', '01381847_page-0', '01382283_page-0', '01382666_page-0', '01383077_page-0', '01384450_page-0', '01385004_page-1', '01393056_page-0', '01395037_page-0', '01396709_page-0', '01397263_page-0', '01398740_page-0', '01398791_page-1', '01400324_page-0', '01403379_page-0', '01406011_page-0', '01407789_page-0', '01408127_page-1', '01408579_page-0', '01408937_page-1', '01413192_page-0', '01421331_page-0', '01421595_page-0', '01424210_page-0', '01424827_page-0', '01425017_page-0', '01432424_page-0', '01434090_page-0', '01434157_page-0', '01435397_page-0', '01436999_page-0', '01439081_page-0', '01440779_page-0', '01441217_page-0', '01442368_page-0', '01446642_page-0', '01448138_page-0', '01452378_page-1', '01454962_page-0', '01455868_page-0', '01459361_page-1', '01462169_page-0', '01463761_page-1', '01464885_page-0', '01472217_page-0', '01473794_page-1', '01476190_page-0', '01476917_page-0', '01477794_page-0', '01478345_page-1', '01479355_page-0', '01479788_page-0', '01479846_page-1', '01480010_page-0', '01481191_page-1', '01481597_page-0', '01482090_page-0', '01484119_page-0', '01484625_page-1', '01487218_page-1', '01489247_page-0', '01495806_page-0', '01501691_page-0', '01502009_page-0', '01502028_page-0', '01502130_page-0', '01502710_page-1', '01502840_page-1', '01503079_page-0', '01503508_page-0', '01508941_page-0', '01509659_page-0', '01515190_page-1', '01516745_page-0', '01516794_page-0', '01517762_page-1', '01517771_page-0', '01518237_page-0', '01519161_page-0', '01519904_page-0', '01521299_page-0', '01521695_page-0', '01521696_page-0', '01523306_page-0', '01523814_page-1', '01523863_page-0', '01523908_page-0', '01525355_page-0', '01525615_page-0', '01527188_page-0', '01531783_page-0', '01531930_page-0', '01534974_page-0', '01537586_page-0', '01540292_page-0', '01540885_page-0', '01544791_page-0', '01547229_page-0', '01548979_page-0', '01550653_page-0', '01550729_page-0', '01554645_page-0', '01557226_page-0', '01560503_page-0', '01560646_page-0', '01562500_page-1', '01562999_page-0', '01563610_page-0', '01571021_page-0', '01572906_page-0', '01577396_page-0', '01578499_page-0', '01580853_page-1', '01581121_page-0', '01581788_page-1', '01583696_page-0', '01592117_page-0', '01596173_page-0', '01596756_page-0', '01598214_page-0', '01600595_page-1', '01601510_page-0', '01602642_page-0', '01604657_page-0', '01604855_page-0', '01607525_page-0', '01608411_page-0', '01609839_page-0', '01610227_page-0', '01614727_page-0', '01615135_page-0', '01615736_page-0', '01616049_page-0', '01616706_page-1', '01616961_page-0', '01617684_page-0', '01623407_page-0', '01623692_page-0', '01623887_page-0', '01624951_page-0', '01625472_page-0', '01625919_page-0', '01627400_page-1', '01628718_page-0', '00824775_page-1', '00824963_page-0', '00825033_page-1', '00825054_page-0', '00825081_page-1', '00825089_page-0', '00825143_page-0', '00825271_page-0', '00825279_page-0', '00825282_page-0', '00825284_page-0', '00825289_page-0', '00825377_page-0', '00825563_page-0', '00825802_page-0', '00825855_page-0', '00825855_page-3', '00825879_page-0', '00825947_page-0', '00825949_page-1', '00825960_page-0', '00826079_page-1', '00826168_page-0', '00826209_page-0', '00826739_page-0', '00826741_page-0', '00826826_page-1', '00826965_page-0', '00826989_page-0', '00827040_page-0', '00827082_page-0', '00827189_page-0', '00827208_page-0', '00827217_page-0', '00827219_page-0', '00827221_page-0', '00827223_page-0', '00827227_page-0', '00827233_page-0', '00827291_page-0', '00827293_page-0', '00827294_page-1', '00827299_page-0', '00827299_page-3', '00827302_page-0', '00827365_page-0', '00827669_page-0', '00827672_page-0', '00827701_page-0', '00827707_page-0', '00827715_page-0', '00827763_page-0', '00827863_page-1', '00827912_page-1', '00827918_page-0', '00827946_page-0', '00828164_page-0', '00828168_page-0', '00828169_page-0', '00828176_page-1', '00828198_page-0', '00828359_page-0', '00828400_page-0', '00828406_page-1', '00828414_page-0', '00828415_page-0', '00828557_page-1', '00828658_page-1', '00828705_page-1', '00828936_page-0', '00828995_page-0', '00829078_page-0', '00829102_page-1', '00829163_page-0', '00829197_page-0', '00829244_page-0', '00829253_page-0', '00829404_page-0', '00829616_page-0', '00829668_page-0', '00829681_page-1', '00829688_page-1', '00829722_page-2', '00829796_page-1', '00829920_page-0', '00830110_page-0', '00830227_page-0', '00830229_page-0', '00830234_page-0', '00830268_page-0', '00830275_page-0', '00830276_page-0', '00830277_page-0', '00830331_page-1', '00830368_page-0', '00830472_page-0', '00830541_page-0', '00830650_page-0', '00830686_page-0', '00830691_page-0', '00830695_page-0', '00830703_page-0', '00830704_page-0', '00830735_page-1', '00830768_page-1', '00830926_page-0', '00831106_page-0', '00831143_page-0', '00831144_page-0', '00831147_page-0', '00831148_page-1', '00831270_page-0', '00831274_page-0', '00831275_page-0', '00831319_page-0', '00831377_page-0', '00831454_page-0', '00831460_page-0', '00831509_page-1', '00831510_page-1', '00831683_page-0', '00831684_page-0', '00831739_page-0', '00831782_page-0', '00831809_page-1', '00831835_page-0', '00831850_page-0', '00831891_page-1', '00831901_page-0', '00832015_page-0', '00832109_page-1', '00832109_page-4', '00832162_page-1', '00832256_page-0', '00832271_page-0', '00832281_page-1', '00832500_page-0', '00832654_page-0', '00832662_page-1', '00832666_page-1', '00832672_page-1', '00832678_page-0', '00832964_page-0', '00832964_page-3', '00832964_page-6', '00832988_page-0', '00833013_page-0', '00833014_page-0', '00833017_page-0', '00833055_page-0', '00833056_page-0', '00833068_page-1', '00833281_page-0', '00833308_page-0', '00833483_page-1', '00833504_page-1', '00833658_page-0', '00833660_page-0', '00833695_page-0', '00833812_page-0', '00833963_page-1', '00833966_page-0', '00834204_page-0', '00834245_page-0', '00834246_page-0', '00834276_page-1', '00834277_page-1', '00834280_page-0', '00834330_page-0', '00834446_page-0', '00834562_page-1', '00834566_page-0', '00834576_page-0', '00834711_page-1', '00834823_page-1', '00834961_page-1', '00835056_page-0', '00835064_page-0', '00835067_page-0', '00835106_page-1', '00835223_page-0', '00835267_page-0', '00835270_page-1', '00835319_page-0', '00835355_page-0', '00835589_page-0', '00835653_page-1', '00835666_page-0', '00835669_page-1', '00835967_page-0', '00836147_page-1', '00836161_page-0', '00836222_page-1', '00836225_page-1', '00836260_page-0', '00836576_page-0', '00836577_page-0', '00836946_page-0', '00837176_page-0', '00837500_page-1', '00837531_page-1', '00837741_page-0', '00838180_page-0', '00838258_page-1', '00838326_page-1', '00838488_page-0', '00838517_page-0', '00838589_page-0', '00838655_page-0', '00838764_page-0', '00838810_page-0', '00838854_page-0', '00838900_page-0', '00838972_page-0', '00838977_page-1', '00838992_page-0', '00839069_page-1', '00839204_page-0', '00839314_page-0', '00839315_page-0', '00839316_page-0', '00839373_page-0', '00839416_page-0', '00839418_page-1', '00839487_page-0', '00839612_page-0', '00839630_page-0', '00839646_page-0', '00839759_page-0', '00839760_page-1', '00839768_page-0', '00839816_page-0', '00840032_page-0', '00840118_page-0', '00840234_page-0', '00840235_page-0', '00840262_page-0', '00840654_page-0', '00840657_page-1', '00840718_page-0', '00840874_page-1', '00840896_page-0', '00840898_page-0', '00840933_page-0', '00840977_page-0', '00841100_page-1', '00841297_page-1', '00841340_page-0', '00841679_page-0', '00841819_page-0', '00841857_page-0', '00841925_page-1', '00841975_page-0', '00841979_page-0', '00842097_page-1', '00842525_page-2', '00842679_page-0', '00842751_page-0', '00842855_page-0', '00842858_page-0', '00842887_page-0', '00843041_page-0', '00843051_page-0', '00843097_page-0', '00843366_page-1', '00843465_page-0', '00843469_page-0', '00843481_page-1', '00843618_page-0', '00843685_page-0', '00843699_page-0', '00844200_page-1', '00844202_page-0', '00844285_page-0', '00844291_page-0', '00844503_page-0', '00844590_page-0', '00844608_page-0', '00844636_page-0', '00844882_page-0', '00844904_page-1', '00844956_page-0', '00844991_page-0', '00845179_page-1', '00845286_page-0', '00845364_page-0', '00845366_page-0', '00845697_page-0', '00845794_page-0', '00845836_page-0', '00845853_page-1', '00846180_page-0', '00846314_page-0', '00846434_page-0', '00910606_page-0', '01323261_page-0', '01326042_page-1', '01331405_page-0', '01332256_page-0', '01339280_page-0', '01341240_page-0', '01353722_page-1', '01359382_page-0', '01372755_page-1', '01383027_page-0', '01386640_page-0', '01387343_page-0', '01389586_page-0', '01404680_page-0', '01423889_page-0', '01451023_page-0', '01481319_page-0', '01488853_page-1', '01506291_page-0', '01508305_page-0', '01522753_page-1', '01592918_page-1', '01626393_page-0', '01332360_page-0', '01360828_page-0', '01476944_page-0', '01565553_page-0', '01566484_page-0', '01575698_page-0', '00824829_page-0', '00825136_page-0', '00825178_page-1', '00825396_page-0', '00825617_page-0', '00825623_page-1', '00826024_page-1', '00826033_page-0', '00826090_page-0', '00826252_page-0', '00826426_page-0', '00826459_page-1', '00826583_page-0', '00826850_page-0', '00826885_page-2', '00827117_page-0', '00827352_page-0', '00827696_page-0', '00827772_page-0', '00827961_page-0', '00828195_page-0', '00828544_page-0', '00828719_page-0', '00828726_page-0', '00828855_page-0', '00829118_page-0', '00830169_page-0', '00830608_page-0', '00830793_page-0', '00831084_page-1', '00832064_page-0', '00832076_page-0', '00832514_page-0', '00833126_page-0', '00833719_page-0', '00834146_page-0', '00834147_page-0', '00834316_page-0', '00834568_page-0', '00835308_page-0', '00836054_page-0', '00836123_page-0'])\n",
            "dict_keys(['name', 'height', 'width', 'objects', 'object_list', 'visual_list'])\n",
            "dict_keys(['global_id', 'image_id', 'bbox', 'text', 'category_id', 'category_name', 'bert_cls'])\n",
            "535\n"
          ]
        }
      ]
    },
    {
      "cell_type": "code",
      "source": [
        "# Iterate through each key in the 'train' dictionary\n",
        "for key, data in train_sample.items():\n",
        "    # Filter out objects with missing values in 'category_id' or any other key you want to check\n",
        "    data['objects'] = {idx: obj for idx, obj in data.get('objects', {}).items() if all(obj.get(k) is not None for k in ['category_name', 'bert_cls', 'text'])}"
      ],
      "metadata": {
        "id": "r0qAX1KsiWsj"
      },
      "execution_count": null,
      "outputs": []
    },
    {
      "cell_type": "code",
      "source": [
        "# original & new mapping\n",
        "# category_mapping = {1: 'Title', 2: 'Section', 3: 'Other', 4: 'Form_key', 5: 'Form_value', 6: 'Table_key', 7: 'Table_value'}\n",
        "# {'Title': 0, 'Other': 1, 'Section': 2, 'Form_key': 3, 'Table_key': 4, 'Table_value': 5, 'Form_value': 6}\n",
        "\n",
        "label_dict = {}\n",
        "label_id = 0\n",
        "\n",
        "for doc in train_sample:\n",
        "  objects = train_sample[doc]['objects']\n",
        "  for i in objects:\n",
        "    #print(objects[i]['category_name'])\n",
        "     if objects[i]['category_name'] not in label_dict:\n",
        "      label_dict[objects[i]['category_name']] = label_id\n",
        "      label_id += 1\n",
        "\n",
        "print(label_dict)"
      ],
      "metadata": {
        "colab": {
          "base_uri": "https://localhost:8080/"
        },
        "id": "Xm8MVmUBOSa4",
        "outputId": "24dff0dd-baa9-4e21-ef3c-6864acc9d821"
      },
      "execution_count": null,
      "outputs": [
        {
          "output_type": "stream",
          "name": "stdout",
          "text": [
            "{'section': 0, 'other': 1, 'title': 2, 'form_key': 3, 'table_key': 4, 'form_value': 5, 'table_value': 6}\n"
          ]
        }
      ]
    },
    {
      "cell_type": "markdown",
      "metadata": {
        "id": "-Kk1bcmXlO7u"
      },
      "source": [
        "## Dataloader"
      ]
    },
    {
      "cell_type": "markdown",
      "source": [
        "### custom dataset"
      ],
      "metadata": {
        "id": "1RpGL29J5B1p"
      }
    },
    {
      "cell_type": "code",
      "source": [
        "# transformer (just using embedding)\n",
        "\n",
        "class CustomDataset(Dataset):\n",
        "    def __init__(self, doc_info, padding_len=100):\n",
        "        #self.tokenizer = tokenizer\n",
        "        self.doc_info = doc_info\n",
        "        #self.positional_encoding = positional_encoding\n",
        "        self.padding_len = padding_len\n",
        "\n",
        "    def __len__(self):\n",
        "        return len(self.doc_info)\n",
        "\n",
        "    def __getitem__(self, idx):\n",
        "        key = list(self.doc_info.keys())[idx]\n",
        "        page_info = self.doc_info[key]\n",
        "\n",
        "        target_id = []\n",
        "        bert_cls = []\n",
        "        for i in range(len(page_info[\"objects\"])):\n",
        "            target_id.append(label_dict[page_info[\"objects\"][i][\"category_name\"]])\n",
        "            bert_cls.append(page_info[\"objects\"][i][\"bert_cls\"])\n",
        "\n",
        "        object_mask = []\n",
        "        visual_feat = copy.deepcopy(page_info[\"visual_list\"])\n",
        "\n",
        "        if len(bert_cls) >= self.padding_len:\n",
        "          bert_cls = bert_cls[:self.padding_len]\n",
        "          visual_feat = visual_feat[:self.padding_len]\n",
        "          object_mask = [1]*self.padding_len\n",
        "          target_id = [-100]*self.padding_len\n",
        "          #print(\"if_target_id\", target_id)\n",
        "          #target_id = target_id[:self.padding_len] # not [-100]\n",
        "\n",
        "        else:\n",
        "          size = len(visual_feat)\n",
        "          bert_cls.extend([[0.0]*768]*(self.padding_len-len(bert_cls)))\n",
        "          visual_feat.extend([[0.0]*2048]*(self.padding_len-len(visual_feat)))\n",
        "          object_mask = [1]*size+[0.0]*(self.padding_len-size) # 1 for obj, 0 the rest\n",
        "          #print(\"object_mask\", object_mask)\n",
        "          target_id.extend([-100]*(self.padding_len-len(target_id)))\n",
        "          #print(\"else_target_id\", target_id)\n",
        "\n",
        "        return {\n",
        "            'bert_cls': torch.tensor(bert_cls, dtype=torch.float),\n",
        "            'visual_feat': torch.tensor(visual_feat, dtype=torch.float),\n",
        "            'target': torch.tensor(target_id, dtype=torch.float),\n",
        "            'object_mask':torch.tensor(object_mask, dtype=torch.float),\n",
        "        }\n",
        "\n"
      ],
      "metadata": {
        "id": "5Ocng_6bQTS4"
      },
      "execution_count": null,
      "outputs": []
    },
    {
      "cell_type": "markdown",
      "metadata": {
        "id": "cADjbnwzlc97"
      },
      "source": [
        "## Model Definition"
      ]
    },
    {
      "cell_type": "code",
      "source": [
        "from torch.nn import TransformerEncoder, TransformerEncoderLayer\n",
        "\n",
        "\n",
        "class New_model(torch.nn.Module):\n",
        "    def __init__(self):\n",
        "        super(New_model, self).__init__()\n",
        "\n",
        "        self.encoder_layer = TransformerEncoderLayer(d_model=2816, nhead=16) #768 + 2048\n",
        "        self.encoder = TransformerEncoder(self.encoder_layer, num_layers=6)\n",
        "        self.pre_classifier = torch.nn.Linear(2816, 2816)\n",
        "        self.dropout = torch.nn.Dropout(0.1)\n",
        "        self.classifier = torch.nn.Linear(2816, 7)\n",
        "\n",
        "    def forward(self, bert_cls, visual_feat, attention_mask):\n",
        "\n",
        "        embed = torch.cat((bert_cls, visual_feat), dim=2)\n",
        "        attention_mask = attention_mask.transpose(0,1)\n",
        "\n",
        "        output_1 = self.encoder(embed, src_key_padding_mask=attention_mask)\n",
        "\n",
        "        output = self.pre_classifier(output_1)\n",
        "        output = torch.nn.Tanh()(output)\n",
        "        output = self.dropout(output)\n",
        "        output = self.classifier(output)\n",
        "        return output"
      ],
      "metadata": {
        "id": "fZQg-82vQgo0"
      },
      "execution_count": null,
      "outputs": []
    },
    {
      "cell_type": "code",
      "execution_count": null,
      "metadata": {
        "id": "5fwaSflrnRw8",
        "colab": {
          "base_uri": "https://localhost:8080/"
        },
        "outputId": "bdef249a-a752-466f-bc0d-e97af8e3da23"
      },
      "outputs": [
        {
          "output_type": "execute_result",
          "data": {
            "text/plain": [
              "New_model(\n",
              "  (encoder_layer): TransformerEncoderLayer(\n",
              "    (self_attn): MultiheadAttention(\n",
              "      (out_proj): NonDynamicallyQuantizableLinear(in_features=2816, out_features=2816, bias=True)\n",
              "    )\n",
              "    (linear1): Linear(in_features=2816, out_features=2048, bias=True)\n",
              "    (dropout): Dropout(p=0.1, inplace=False)\n",
              "    (linear2): Linear(in_features=2048, out_features=2816, bias=True)\n",
              "    (norm1): LayerNorm((2816,), eps=1e-05, elementwise_affine=True)\n",
              "    (norm2): LayerNorm((2816,), eps=1e-05, elementwise_affine=True)\n",
              "    (dropout1): Dropout(p=0.1, inplace=False)\n",
              "    (dropout2): Dropout(p=0.1, inplace=False)\n",
              "  )\n",
              "  (encoder): TransformerEncoder(\n",
              "    (layers): ModuleList(\n",
              "      (0-5): 6 x TransformerEncoderLayer(\n",
              "        (self_attn): MultiheadAttention(\n",
              "          (out_proj): NonDynamicallyQuantizableLinear(in_features=2816, out_features=2816, bias=True)\n",
              "        )\n",
              "        (linear1): Linear(in_features=2816, out_features=2048, bias=True)\n",
              "        (dropout): Dropout(p=0.1, inplace=False)\n",
              "        (linear2): Linear(in_features=2048, out_features=2816, bias=True)\n",
              "        (norm1): LayerNorm((2816,), eps=1e-05, elementwise_affine=True)\n",
              "        (norm2): LayerNorm((2816,), eps=1e-05, elementwise_affine=True)\n",
              "        (dropout1): Dropout(p=0.1, inplace=False)\n",
              "        (dropout2): Dropout(p=0.1, inplace=False)\n",
              "      )\n",
              "    )\n",
              "  )\n",
              "  (pre_classifier): Linear(in_features=2816, out_features=2816, bias=True)\n",
              "  (dropout): Dropout(p=0.1, inplace=False)\n",
              "  (classifier): Linear(in_features=2816, out_features=7, bias=True)\n",
              ")"
            ]
          },
          "metadata": {},
          "execution_count": 112
        }
      ],
      "source": [
        "# from transformers import LxmertTokenizer, LxmertModel\n",
        "# tokenizer = LxmertTokenizer.from_pretrained('unc-nlp/lxmert-base-uncased')\n",
        "\n",
        "# from transformers import BertTokenizer\n",
        "# tokenizer = BertTokenizer.from_pretrained(\"bert-base-uncased\", truncation=True, do_lower_case=True)\n",
        "\n",
        "model = New_model()\n",
        "device = torch.device('cuda' if torch.cuda.is_available() else 'cpu')\n",
        "model.to(device)"
      ]
    },
    {
      "cell_type": "markdown",
      "source": [
        "## Metrics"
      ],
      "metadata": {
        "id": "jA1uo-WJ3wNA"
      }
    },
    {
      "cell_type": "code",
      "execution_count": null,
      "metadata": {
        "id": "AyfCC2bj-etz",
        "colab": {
          "base_uri": "https://localhost:8080/"
        },
        "outputId": "58a58ca3-04e3-47db-d2c7-5cf71063e186"
      },
      "outputs": [
        {
          "output_type": "stream",
          "name": "stdout",
          "text": [
            "\u001b[2K     \u001b[90m━━━━━━━━━━━━━━━━━━━━━━━━━━━━━━━━━━━━━━━━\u001b[0m \u001b[32m43.6/43.6 kB\u001b[0m \u001b[31m2.3 MB/s\u001b[0m eta \u001b[36m0:00:00\u001b[0m\n",
            "\u001b[?25h  Preparing metadata (setup.py) ... \u001b[?25l\u001b[?25hdone\n",
            "\u001b[2K     \u001b[90m━━━━━━━━━━━━━━━━━━━━━━━━━━━━━━━━━━━━━━━━\u001b[0m \u001b[32m84.1/84.1 kB\u001b[0m \u001b[31m4.9 MB/s\u001b[0m eta \u001b[36m0:00:00\u001b[0m\n",
            "\u001b[?25h  Building wheel for seqeval (setup.py) ... \u001b[?25l\u001b[?25hdone\n"
          ]
        }
      ],
      "source": [
        "!pip install -q seqeval evaluate"
      ]
    },
    {
      "cell_type": "code",
      "execution_count": null,
      "metadata": {
        "id": "vwP-I1s7Us0s",
        "colab": {
          "base_uri": "https://localhost:8080/",
          "height": 49,
          "referenced_widgets": [
            "52cfaec19b444a9b9bccf7a4324c936c",
            "dbaa7421c6214d2f87d3ca30f974cf29",
            "07ef5e016ebf49f5ba4c6446089f9119",
            "ae7acb22187c441da1571ec80d4d0091",
            "f8e4da16b7ea410db70d2c2e37841f3c",
            "c691d1622bf341d5895564423af229e0",
            "ad5dcdaa761d40129c5695812ee90023",
            "b48280cf9cb04060bc8728f8e1b6f561",
            "0d4996e6fb8049f79ba84859e5d55dce",
            "fa12983774aa487ca91fdda99f588139",
            "04729c7605d145be95eaaff67ff2ce4f"
          ]
        },
        "outputId": "4e729579-7e13-41e2-9683-4ed856ff1d1d"
      },
      "outputs": [
        {
          "output_type": "display_data",
          "data": {
            "text/plain": [
              "Downloading builder script:   0%|          | 0.00/6.34k [00:00<?, ?B/s]"
            ],
            "application/vnd.jupyter.widget-view+json": {
              "version_major": 2,
              "version_minor": 0,
              "model_id": "52cfaec19b444a9b9bccf7a4324c936c"
            }
          },
          "metadata": {}
        }
      ],
      "source": [
        "import evaluate\n",
        "import torch\n",
        "import numpy as np\n",
        "from seqeval.metrics import classification_report\n",
        "\n",
        "device = torch.device(\"cuda\" if torch.cuda.is_available() else \"cpu\")\n",
        "\n",
        "metric = evaluate.load(\"seqeval\")"
      ]
    },
    {
      "cell_type": "code",
      "source": [
        "# start from \"0\"\n",
        "label_list = list(label_dict.keys())\n",
        "print(\"label_dict\", label_dict)\n",
        "print(\"label_list\", label_list)"
      ],
      "metadata": {
        "colab": {
          "base_uri": "https://localhost:8080/"
        },
        "id": "hpOulkK0PROf",
        "outputId": "9d9d7a09-938f-4ade-a8ff-78341a1be3ed"
      },
      "execution_count": null,
      "outputs": [
        {
          "output_type": "stream",
          "name": "stdout",
          "text": [
            "label_dict {'section': 0, 'other': 1, 'title': 2, 'form_key': 3, 'table_key': 4, 'form_value': 5, 'table_value': 6}\n",
            "label_list ['section', 'other', 'title', 'form_key', 'table_key', 'form_value', 'table_value']\n"
          ]
        }
      ]
    },
    {
      "cell_type": "code",
      "source": [
        "# original - matching with target_id, but causing an error\n",
        "\n",
        "# label_list = list(label_dict.keys())\n",
        "# print(\"label_dict\", label_dict)\n",
        "# print(\"label_list\", label_list) #label_dict['Title'] = 1"
      ],
      "metadata": {
        "colab": {
          "base_uri": "https://localhost:8080/"
        },
        "id": "g3KqXNGlp5js",
        "outputId": "30961571-18bd-44e2-e77a-f25fbf5d28d1"
      },
      "execution_count": null,
      "outputs": [
        {
          "output_type": "stream",
          "name": "stdout",
          "text": [
            "label_dict {'Title': 1, 'Section': 2, 'Other': 3, 'Form_key': 4, 'Form_value': 5, 'Table_key': 6, 'Table_value': 7}\n",
            "label_list ['Title', 'Section', 'Other', 'Form_key', 'Form_value', 'Table_key', 'Table_value']\n"
          ]
        }
      ]
    },
    {
      "cell_type": "code",
      "execution_count": null,
      "metadata": {
        "id": "VLiCLF9k3i4j"
      },
      "outputs": [],
      "source": [
        "import numpy as np\n",
        "\n",
        "#return_entity_level_metrics = True\n",
        "return_entity_level_metrics = False\n",
        "label_list = list(label_dict.keys())\n",
        "\n",
        "def compute_metrics(p):\n",
        "    predictions, labels = p\n",
        "    predictions = np.argmax(predictions, axis=2)\n",
        "\n",
        "    true_predictions = [\n",
        "        [label_list[int(p)] for (p, l) in zip(prediction, label) if l != -100]\n",
        "        for prediction, label in zip(predictions, labels)\n",
        "    ]\n",
        "    true_labels = [\n",
        "        [label_list[int(l)] for (p, l) in zip(prediction, label) if l != -100]\n",
        "        for prediction, label in zip(predictions, labels)\n",
        "    ]\n",
        "\n",
        "    results = metric.compute(predictions=true_predictions, references=true_labels)\n",
        "    report = classification_report(y_true=true_labels, y_pred=true_predictions, digits=4)\n",
        "\n",
        "    if return_entity_level_metrics:\n",
        "        final_results = {}\n",
        "        for key, value in results.items():\n",
        "            if isinstance(value, dict):\n",
        "                for n, v in value.items():\n",
        "                    final_results[f\"{key}_{n}\"] = v\n",
        "            else:\n",
        "                final_results[key] = value\n",
        "        return final_results\n",
        "    else:\n",
        "        return {\n",
        "            \"overall_precision\": results[\"overall_precision\"],\n",
        "            \"overall_recall\": results[\"overall_recall\"],\n",
        "            \"overall_f1\": results[\"overall_f1\"],\n",
        "            \"overall_accuracy\": results[\"overall_accuracy\"],\n",
        "            \"classification_report\" : report,\n",
        "        }"
      ]
    },
    {
      "cell_type": "markdown",
      "metadata": {
        "id": "ETercYHynUZy"
      },
      "source": [
        "## Training"
      ]
    },
    {
      "cell_type": "code",
      "execution_count": null,
      "metadata": {
        "id": "hbqkpAPqVDK9"
      },
      "outputs": [],
      "source": [
        "#train_dataset = CustomDataset(doc_info=train_all_feat)\n",
        "train_dataset = CustomDataset(doc_info=train_sample)\n",
        "val_dataset = CustomDataset(doc_info=val_all_feat)\n",
        "test_dataset = CustomDataset(doc_info=test_all_feat)\n",
        "\n",
        "train_dataloader = DataLoader(train_dataset, batch_size=8, shuffle=True)\n",
        "val_dataloader = DataLoader(val_dataset, batch_size=8, shuffle=True)\n",
        "test_dataloader = DataLoader(test_dataset, batch_size=8, shuffle=True)"
      ]
    },
    {
      "cell_type": "code",
      "source": [
        "#put the model in training mode\n",
        "loss_function = torch.nn.CrossEntropyLoss()\n",
        "optimizer = AdamW(model.parameters(), lr=2e-5)\n",
        "model.train()\n",
        "\n",
        "def train(num_train_epochs):\n",
        "  for _ in range(num_train_epochs):\n",
        "      total_loss = 0\n",
        "\n",
        "      for data in tqdm(train_dataloader):\n",
        "          # get the inputs;\n",
        "          labels = data['target'].to(device, dtype = torch.long)\n",
        "          visual_feats = data['visual_feat'].to(device, dtype = torch.float)\n",
        "          bert_cls = data['bert_cls'].to(device, dtype = torch.float)\n",
        "          object_mask = data['object_mask'].to(device, dtype = torch.float)\n",
        "\n",
        "          optimizer.zero_grad()\n",
        "          outputs = model(bert_cls, visual_feats, object_mask)\n",
        "\n",
        "          loss = loss_function(outputs.view(-1, 7), labels.view(-1)) # 7 labels\n",
        "          loss.backward()\n",
        "          total_loss += loss.item()\n",
        "          optimizer.step()\n",
        "\n",
        "      print(\"Train Loss:\", total_loss/len(train_dataloader))\n",
        "\n",
        "\n",
        "def eval(test_dataloader):\n",
        "  preds_val = None\n",
        "  out_label_ids = None\n",
        "  model.eval()\n",
        "  total_loss = 0\n",
        "\n",
        "  for data in tqdm(test_dataloader):\n",
        "      with torch.no_grad():\n",
        "          # get the inputs;\n",
        "          labels = data['target'].to(device, dtype = torch.long)\n",
        "          visual_feats = data['visual_feat'].to(device, dtype = torch.float)\n",
        "          bert_cls = data['bert_cls'].to(device, dtype = torch.float)\n",
        "          object_mask = data['object_mask'].to(device, dtype = torch.float)\n",
        "\n",
        "          optimizer.zero_grad()\n",
        "          outputs = model(bert_cls, visual_feats, object_mask)\n",
        "\n",
        "          loss = loss_function(outputs.view(-1, 7), labels.view(-1)) # 7 labels\n",
        "          total_loss += loss.item()\n",
        "\n",
        "          if preds_val is None:\n",
        "            preds_val = outputs.detach().cpu().numpy()\n",
        "            out_label_ids = data[\"target\"].detach().cpu().numpy()\n",
        "\n",
        "          else:\n",
        "            preds_val = np.append(preds_val, outputs.detach().cpu().numpy(), axis=0)\n",
        "            out_label_ids = np.append(out_label_ids, data[\"target\"].detach().cpu().numpy(), axis=0)\n",
        "\n",
        "  print(\"Val Loss:\", total_loss/len(test_dataloader))\n",
        "  pprint.pprint(compute_metrics((preds_val, out_label_ids)))\n",
        "  return compute_metrics((preds_val, out_label_ids))"
      ],
      "metadata": {
        "id": "bcz7Uf-C4mbo"
      },
      "execution_count": null,
      "outputs": []
    },
    {
      "cell_type": "code",
      "source": [
        "current_f1 = 0\n",
        "best_epoch = 0\n",
        "optimizer = AdamW(model.parameters(), lr=1e-5)\n",
        "\n",
        "for epoch in tqdm(range(2)):\n",
        "  print(\"Epoch:\", epoch+1)\n",
        "  train(1)\n",
        "  val_result = eval(val_dataloader)\n",
        "  if val_result['overall_f1'] > current_f1:\n",
        "    current_f1 = val_result['overall_f1']\n",
        "    best_epoch = epoch\n",
        "    best_val_result = val_result\n",
        "    torch.save(model.state_dict(), '/content/formnlu_transformer_best.pth')\n",
        "\n",
        "  print(\"Best Epoch:\", best_epoch+1)\n",
        "  #pprint.pprint(best_val_result)\n"
      ],
      "metadata": {
        "id": "j8Aqx0Ek5Usg",
        "colab": {
          "base_uri": "https://localhost:8080/",
          "height": 1000,
          "referenced_widgets": [
            "2c886ff4436b4b2d9df7f6edc5029c12",
            "71d47075b9244f6a8d717db8e2e453f0",
            "5f5d9dfcb5c54eb38bac52766c2c2397",
            "7b6422c87aa84188bd5fe306514d206a",
            "06dd7de48d26441b9b87f0d8e0bb0c21",
            "392b6434014544e0ae4bf69755b2a285",
            "4a9f0d47cd5a4b82bd294d7620fe40ea",
            "b25a73fc2d904abba1a3ba6e3305c3c7",
            "256663eff0504fe3a2df8272c58d84b4",
            "a7cc927266284226ad6d274316e31843",
            "77857a061f4d421ab878134fa9563eed",
            "2799b625be994a549b4b1082df05c909",
            "aa5f6082d8d046ba883bd38e6d019289",
            "7f8c933c89fa486f867246bf21219d67",
            "fbe9cf5b0d5f47f485127768003902c8",
            "5eda701712cc4b77b1cdcd4d3136ce66",
            "ca0d1a37b9fd4b49ad6dd05a111cde7e",
            "748875db26b340a585f94f9c638c4632",
            "184b79c06740461694fa732db5505fe6",
            "3e2b44c6ce704922b36fe023f25ac6d5",
            "f1d7177459d24d9ebc0ce488866e1481",
            "023597735eb24b36b4117af1ab505259",
            "6a7780a180b54d59a164d2bf8fd00eab",
            "5a34c54020b644de89236c06ecbdf311",
            "e88e561196534c9d911fb301fce95ec1",
            "56d5d8660725442e9d00da89390bd210",
            "c7c80a2100864541aeff744855b6b32f",
            "69791b7921cc4cfba8b246ed98640bf2",
            "670958b7a5c84a5ba5464a8e43f5fce1",
            "e438ec3f734a43ffa22ea14220f12933",
            "beede922871849f29d81093a52d382e7",
            "64ec39ba110744839652952e287d948c",
            "db3727483943427f9d0fd3d54c89d48b",
            "9152e7813f2841a28f920bd4f5f1f7af",
            "eddcc59108a743fda4f470ec18608eea",
            "b4037642ae734a09bc8160bcd2a56065",
            "bad112f5cfeb4ebfb984616164d00d5a",
            "badbcda106074509928843a7e925d37b",
            "c6c076f469ea42fd8c7c97aa087973ee",
            "2cc559068cf441d5af1921f7a043acc1",
            "52b6c5ba6759472b8b27d5061a2bc16f",
            "705ab6b630454fe1bb790487f4e8eaf8",
            "d465945ed7e1407fb105de4060b9cfc7",
            "13c09ae9ba424dc494684243b0ee7dd0",
            "6efc11191b6e4f67be584dec1e546514",
            "eb7b8d263b474013a4dd71b05967f909",
            "4c2f0c80b3d04b72aac8f1a70271cb3b",
            "e057c1cb40d04875a809cb19838be554",
            "a9c79a1c49a8432ebf6a0b7250c33d04",
            "eb48e2cf44da48689fe1864a22ab29aa",
            "261bcff7711b47f1b55286e4749d508a",
            "f9cd5b7e271e422abcbe5bd1f5de5f9c",
            "efe1dafc282c4178b825710d6cd8a965",
            "987b062d7c3745c686f807021a94b9d8",
            "860d2dbbd26b4b399c99810c55c08587"
          ]
        },
        "outputId": "72ee906c-de63-4042-87cd-69d59b2d22db"
      },
      "execution_count": null,
      "outputs": [
        {
          "output_type": "display_data",
          "data": {
            "text/plain": [
              "  0%|          | 0/2 [00:00<?, ?it/s]"
            ],
            "application/vnd.jupyter.widget-view+json": {
              "version_major": 2,
              "version_minor": 0,
              "model_id": "2c886ff4436b4b2d9df7f6edc5029c12"
            }
          },
          "metadata": {}
        },
        {
          "output_type": "stream",
          "name": "stdout",
          "text": [
            "Epoch: 1\n"
          ]
        },
        {
          "output_type": "display_data",
          "data": {
            "text/plain": [
              "  0%|          | 0/67 [00:00<?, ?it/s]"
            ],
            "application/vnd.jupyter.widget-view+json": {
              "version_major": 2,
              "version_minor": 0,
              "model_id": "2799b625be994a549b4b1082df05c909"
            }
          },
          "metadata": {}
        },
        {
          "output_type": "stream",
          "name": "stdout",
          "text": [
            "Train Loss: 0.007868015251657577\n"
          ]
        },
        {
          "output_type": "display_data",
          "data": {
            "text/plain": [
              "  0%|          | 0/10 [00:00<?, ?it/s]"
            ],
            "application/vnd.jupyter.widget-view+json": {
              "version_major": 2,
              "version_minor": 0,
              "model_id": "6a7780a180b54d59a164d2bf8fd00eab"
            }
          },
          "metadata": {}
        },
        {
          "output_type": "stream",
          "name": "stdout",
          "text": [
            "Val Loss: 0.007972197944764049\n",
            "{'classification_report': '              precision    recall  f1-score   '\n",
            "                          'support\\n'\n",
            "                          '\\n'\n",
            "                          '    able_key     0.9610    0.9737    0.9673        '\n",
            "                          '76\\n'\n",
            "                          '  able_value     0.9684    0.9787    0.9735        '\n",
            "                          '94\\n'\n",
            "                          '      ection     1.0000    1.0000    1.0000        '\n",
            "                          '83\\n'\n",
            "                          '        itle     1.0000    1.0000    1.0000        '\n",
            "                          '76\\n'\n",
            "                          '     orm_key     1.0000    1.0000    1.0000        '\n",
            "                          '82\\n'\n",
            "                          '   orm_value     1.0000    1.0000    1.0000       '\n",
            "                          '106\\n'\n",
            "                          '        ther     1.0000    1.0000    1.0000       '\n",
            "                          '112\\n'\n",
            "                          '\\n'\n",
            "                          '   micro avg     0.9905    0.9936    0.9921       '\n",
            "                          '629\\n'\n",
            "                          '   macro avg     0.9899    0.9932    0.9916       '\n",
            "                          '629\\n'\n",
            "                          'weighted avg     0.9906    0.9936    0.9921       '\n",
            "                          '629\\n',\n",
            " 'overall_accuracy': 0.9987531172069826,\n",
            " 'overall_f1': 0.9920634920634921,\n",
            " 'overall_precision': 0.9904912836767037,\n",
            " 'overall_recall': 0.9936406995230525}\n",
            "Best Epoch: 1\n",
            "Epoch: 2\n"
          ]
        },
        {
          "output_type": "display_data",
          "data": {
            "text/plain": [
              "  0%|          | 0/67 [00:00<?, ?it/s]"
            ],
            "application/vnd.jupyter.widget-view+json": {
              "version_major": 2,
              "version_minor": 0,
              "model_id": "9152e7813f2841a28f920bd4f5f1f7af"
            }
          },
          "metadata": {}
        },
        {
          "output_type": "stream",
          "name": "stdout",
          "text": [
            "Train Loss: 0.0042031379032153775\n"
          ]
        },
        {
          "output_type": "display_data",
          "data": {
            "text/plain": [
              "  0%|          | 0/10 [00:00<?, ?it/s]"
            ],
            "application/vnd.jupyter.widget-view+json": {
              "version_major": 2,
              "version_minor": 0,
              "model_id": "6efc11191b6e4f67be584dec1e546514"
            }
          },
          "metadata": {}
        },
        {
          "output_type": "stream",
          "name": "stdout",
          "text": [
            "Val Loss: 0.0037546394276432695\n",
            "{'classification_report': '              precision    recall  f1-score   '\n",
            "                          'support\\n'\n",
            "                          '\\n'\n",
            "                          '    able_key     0.9740    0.9868    0.9804        '\n",
            "                          '76\\n'\n",
            "                          '  able_value     0.9895    1.0000    0.9947        '\n",
            "                          '94\\n'\n",
            "                          '      ection     1.0000    1.0000    1.0000        '\n",
            "                          '83\\n'\n",
            "                          '        itle     1.0000    1.0000    1.0000        '\n",
            "                          '76\\n'\n",
            "                          '     orm_key     1.0000    1.0000    1.0000        '\n",
            "                          '82\\n'\n",
            "                          '   orm_value     1.0000    1.0000    1.0000       '\n",
            "                          '106\\n'\n",
            "                          '        ther     1.0000    1.0000    1.0000       '\n",
            "                          '112\\n'\n",
            "                          '\\n'\n",
            "                          '   micro avg     0.9952    0.9984    0.9968       '\n",
            "                          '629\\n'\n",
            "                          '   macro avg     0.9948    0.9981    0.9964       '\n",
            "                          '629\\n'\n",
            "                          'weighted avg     0.9953    0.9984    0.9968       '\n",
            "                          '629\\n',\n",
            " 'overall_accuracy': 0.9995843724023276,\n",
            " 'overall_f1': 0.9968253968253968,\n",
            " 'overall_precision': 0.9952456418383518,\n",
            " 'overall_recall': 0.9984101748807631}\n",
            "Best Epoch: 2\n"
          ]
        }
      ]
    },
    {
      "cell_type": "markdown",
      "source": [
        "## Evaluation"
      ],
      "metadata": {
        "id": "ocx5Vg1Rd9Pr"
      }
    },
    {
      "cell_type": "markdown",
      "source": [
        "LXMERT - 2 epochs\n",
        "\n",
        "    'overall_accuracy': 0.9971830985915493,\n",
        "    'overall_f1': 0.9847170590665013,\n",
        "    'overall_precision': 0.977850697292863,\n",
        "    'overall_recall': 0.9916805324459235"
      ],
      "metadata": {
        "id": "cgMuezcxrC7k"
      }
    },
    {
      "cell_type": "markdown",
      "source": [
        "Transformer - 2 epochs\n",
        "\n",
        "    'overall_accuracy': 0.9971830985915493,\n",
        "    'overall_f1': 0.9859154929577465,\n",
        "    'overall_precision': 0.9818481848184818,\n",
        "    'overall_recall': 0.9900166389351082"
      ],
      "metadata": {
        "id": "q3Pb68GDWUDz"
      }
    },
    {
      "cell_type": "code",
      "source": [
        "state_dict = torch.load('/content/formnlu_transformer_best.pth')\n",
        "model.load_state_dict(state_dict)\n",
        "model.eval()\n",
        "test_result = eval(test_dataloader)"
      ],
      "metadata": {
        "id": "PMSzd99nslyI",
        "colab": {
          "base_uri": "https://localhost:8080/",
          "height": 552,
          "referenced_widgets": [
            "d074600cb0924f3fa4c247d107cfbd41",
            "0c3b468d5c774e8991e0293dcfff5feb",
            "667876f8df70476ea01421ae05745793",
            "ed8ee540465243a2a97f0094a2b23a50",
            "c90989462f0b48098cfa702943fbdda2",
            "87d484feb7fd4c97ad4a69649c8491e2",
            "2ea584f46a344324b16e28ddf91b30d7",
            "49a5e9e2a8354b11939665ccb72c0655",
            "e648a3e9d53f4bb5bd0bbc78dda792cd",
            "6680d9acd8d647caa123f86a869b1795",
            "a7b236d5cf424890b52775fdff27daf8"
          ]
        },
        "outputId": "4ad66aa4-e93c-4e37-c8ee-363d09f8678e"
      },
      "execution_count": null,
      "outputs": [
        {
          "output_type": "display_data",
          "data": {
            "text/plain": [
              "  0%|          | 0/19 [00:00<?, ?it/s]"
            ],
            "application/vnd.jupyter.widget-view+json": {
              "version_major": 2,
              "version_minor": 0,
              "model_id": "d074600cb0924f3fa4c247d107cfbd41"
            }
          },
          "metadata": {}
        },
        {
          "output_type": "stream",
          "name": "stdout",
          "text": [
            "Val Loss: 0.022985814237280897\n",
            "{'classification_report': '              precision    recall  f1-score   '\n",
            "                          'support\\n'\n",
            "                          '\\n'\n",
            "                          '    able_key     0.9726    0.9726    0.9726       '\n",
            "                          '146\\n'\n",
            "                          '  able_value     0.9731    0.9784    0.9757       '\n",
            "                          '185\\n'\n",
            "                          '      ection     1.0000    1.0000    1.0000       '\n",
            "                          '160\\n'\n",
            "                          '        itle     1.0000    1.0000    1.0000       '\n",
            "                          '146\\n'\n",
            "                          '     orm_key     0.9684    0.9935    0.9808       '\n",
            "                          '154\\n'\n",
            "                          '   orm_value     0.9730    0.9954    0.9841       '\n",
            "                          '217\\n'\n",
            "                          '        ther     0.9897    0.9897    0.9897       '\n",
            "                          '194\\n'\n",
            "                          '\\n'\n",
            "                          '   micro avg     0.9818    0.9900    0.9859      '\n",
            "                          '1202\\n'\n",
            "                          '   macro avg     0.9824    0.9899    0.9861      '\n",
            "                          '1202\\n'\n",
            "                          'weighted avg     0.9819    0.9900    0.9859      '\n",
            "                          '1202\\n',\n",
            " 'overall_accuracy': 0.9971830985915493,\n",
            " 'overall_f1': 0.9859154929577465,\n",
            " 'overall_precision': 0.9818481848184818,\n",
            " 'overall_recall': 0.9900166389351082}\n"
          ]
        }
      ]
    },
    {
      "cell_type": "code",
      "source": [
        "!cp -r /content/formnlu_transformer_best.pth /content/drive/MyDrive/00_torino_adnlp/formnlu_features/"
      ],
      "metadata": {
        "id": "0rwDFkhf2Lvl"
      },
      "execution_count": null,
      "outputs": []
    }
  ],
  "metadata": {
    "colab": {
      "machine_shape": "hm",
      "provenance": [],
      "collapsed_sections": [
        "jA1uo-WJ3wNA"
      ],
      "gpuType": "T4",
      "toc_visible": true
    },
    "kernelspec": {
      "display_name": "Python 3",
      "name": "python3"
    },
    "language_info": {
      "name": "python"
    },
    "widgets": {
      "application/vnd.jupyter.widget-state+json": {
        "52cfaec19b444a9b9bccf7a4324c936c": {
          "model_module": "@jupyter-widgets/controls",
          "model_name": "HBoxModel",
          "model_module_version": "1.5.0",
          "state": {
            "_dom_classes": [],
            "_model_module": "@jupyter-widgets/controls",
            "_model_module_version": "1.5.0",
            "_model_name": "HBoxModel",
            "_view_count": null,
            "_view_module": "@jupyter-widgets/controls",
            "_view_module_version": "1.5.0",
            "_view_name": "HBoxView",
            "box_style": "",
            "children": [
              "IPY_MODEL_dbaa7421c6214d2f87d3ca30f974cf29",
              "IPY_MODEL_07ef5e016ebf49f5ba4c6446089f9119",
              "IPY_MODEL_ae7acb22187c441da1571ec80d4d0091"
            ],
            "layout": "IPY_MODEL_f8e4da16b7ea410db70d2c2e37841f3c"
          }
        },
        "dbaa7421c6214d2f87d3ca30f974cf29": {
          "model_module": "@jupyter-widgets/controls",
          "model_name": "HTMLModel",
          "model_module_version": "1.5.0",
          "state": {
            "_dom_classes": [],
            "_model_module": "@jupyter-widgets/controls",
            "_model_module_version": "1.5.0",
            "_model_name": "HTMLModel",
            "_view_count": null,
            "_view_module": "@jupyter-widgets/controls",
            "_view_module_version": "1.5.0",
            "_view_name": "HTMLView",
            "description": "",
            "description_tooltip": null,
            "layout": "IPY_MODEL_c691d1622bf341d5895564423af229e0",
            "placeholder": "​",
            "style": "IPY_MODEL_ad5dcdaa761d40129c5695812ee90023",
            "value": "Downloading builder script: 100%"
          }
        },
        "07ef5e016ebf49f5ba4c6446089f9119": {
          "model_module": "@jupyter-widgets/controls",
          "model_name": "FloatProgressModel",
          "model_module_version": "1.5.0",
          "state": {
            "_dom_classes": [],
            "_model_module": "@jupyter-widgets/controls",
            "_model_module_version": "1.5.0",
            "_model_name": "FloatProgressModel",
            "_view_count": null,
            "_view_module": "@jupyter-widgets/controls",
            "_view_module_version": "1.5.0",
            "_view_name": "ProgressView",
            "bar_style": "success",
            "description": "",
            "description_tooltip": null,
            "layout": "IPY_MODEL_b48280cf9cb04060bc8728f8e1b6f561",
            "max": 6338,
            "min": 0,
            "orientation": "horizontal",
            "style": "IPY_MODEL_0d4996e6fb8049f79ba84859e5d55dce",
            "value": 6338
          }
        },
        "ae7acb22187c441da1571ec80d4d0091": {
          "model_module": "@jupyter-widgets/controls",
          "model_name": "HTMLModel",
          "model_module_version": "1.5.0",
          "state": {
            "_dom_classes": [],
            "_model_module": "@jupyter-widgets/controls",
            "_model_module_version": "1.5.0",
            "_model_name": "HTMLModel",
            "_view_count": null,
            "_view_module": "@jupyter-widgets/controls",
            "_view_module_version": "1.5.0",
            "_view_name": "HTMLView",
            "description": "",
            "description_tooltip": null,
            "layout": "IPY_MODEL_fa12983774aa487ca91fdda99f588139",
            "placeholder": "​",
            "style": "IPY_MODEL_04729c7605d145be95eaaff67ff2ce4f",
            "value": " 6.34k/6.34k [00:00&lt;00:00, 513kB/s]"
          }
        },
        "f8e4da16b7ea410db70d2c2e37841f3c": {
          "model_module": "@jupyter-widgets/base",
          "model_name": "LayoutModel",
          "model_module_version": "1.2.0",
          "state": {
            "_model_module": "@jupyter-widgets/base",
            "_model_module_version": "1.2.0",
            "_model_name": "LayoutModel",
            "_view_count": null,
            "_view_module": "@jupyter-widgets/base",
            "_view_module_version": "1.2.0",
            "_view_name": "LayoutView",
            "align_content": null,
            "align_items": null,
            "align_self": null,
            "border": null,
            "bottom": null,
            "display": null,
            "flex": null,
            "flex_flow": null,
            "grid_area": null,
            "grid_auto_columns": null,
            "grid_auto_flow": null,
            "grid_auto_rows": null,
            "grid_column": null,
            "grid_gap": null,
            "grid_row": null,
            "grid_template_areas": null,
            "grid_template_columns": null,
            "grid_template_rows": null,
            "height": null,
            "justify_content": null,
            "justify_items": null,
            "left": null,
            "margin": null,
            "max_height": null,
            "max_width": null,
            "min_height": null,
            "min_width": null,
            "object_fit": null,
            "object_position": null,
            "order": null,
            "overflow": null,
            "overflow_x": null,
            "overflow_y": null,
            "padding": null,
            "right": null,
            "top": null,
            "visibility": null,
            "width": null
          }
        },
        "c691d1622bf341d5895564423af229e0": {
          "model_module": "@jupyter-widgets/base",
          "model_name": "LayoutModel",
          "model_module_version": "1.2.0",
          "state": {
            "_model_module": "@jupyter-widgets/base",
            "_model_module_version": "1.2.0",
            "_model_name": "LayoutModel",
            "_view_count": null,
            "_view_module": "@jupyter-widgets/base",
            "_view_module_version": "1.2.0",
            "_view_name": "LayoutView",
            "align_content": null,
            "align_items": null,
            "align_self": null,
            "border": null,
            "bottom": null,
            "display": null,
            "flex": null,
            "flex_flow": null,
            "grid_area": null,
            "grid_auto_columns": null,
            "grid_auto_flow": null,
            "grid_auto_rows": null,
            "grid_column": null,
            "grid_gap": null,
            "grid_row": null,
            "grid_template_areas": null,
            "grid_template_columns": null,
            "grid_template_rows": null,
            "height": null,
            "justify_content": null,
            "justify_items": null,
            "left": null,
            "margin": null,
            "max_height": null,
            "max_width": null,
            "min_height": null,
            "min_width": null,
            "object_fit": null,
            "object_position": null,
            "order": null,
            "overflow": null,
            "overflow_x": null,
            "overflow_y": null,
            "padding": null,
            "right": null,
            "top": null,
            "visibility": null,
            "width": null
          }
        },
        "ad5dcdaa761d40129c5695812ee90023": {
          "model_module": "@jupyter-widgets/controls",
          "model_name": "DescriptionStyleModel",
          "model_module_version": "1.5.0",
          "state": {
            "_model_module": "@jupyter-widgets/controls",
            "_model_module_version": "1.5.0",
            "_model_name": "DescriptionStyleModel",
            "_view_count": null,
            "_view_module": "@jupyter-widgets/base",
            "_view_module_version": "1.2.0",
            "_view_name": "StyleView",
            "description_width": ""
          }
        },
        "b48280cf9cb04060bc8728f8e1b6f561": {
          "model_module": "@jupyter-widgets/base",
          "model_name": "LayoutModel",
          "model_module_version": "1.2.0",
          "state": {
            "_model_module": "@jupyter-widgets/base",
            "_model_module_version": "1.2.0",
            "_model_name": "LayoutModel",
            "_view_count": null,
            "_view_module": "@jupyter-widgets/base",
            "_view_module_version": "1.2.0",
            "_view_name": "LayoutView",
            "align_content": null,
            "align_items": null,
            "align_self": null,
            "border": null,
            "bottom": null,
            "display": null,
            "flex": null,
            "flex_flow": null,
            "grid_area": null,
            "grid_auto_columns": null,
            "grid_auto_flow": null,
            "grid_auto_rows": null,
            "grid_column": null,
            "grid_gap": null,
            "grid_row": null,
            "grid_template_areas": null,
            "grid_template_columns": null,
            "grid_template_rows": null,
            "height": null,
            "justify_content": null,
            "justify_items": null,
            "left": null,
            "margin": null,
            "max_height": null,
            "max_width": null,
            "min_height": null,
            "min_width": null,
            "object_fit": null,
            "object_position": null,
            "order": null,
            "overflow": null,
            "overflow_x": null,
            "overflow_y": null,
            "padding": null,
            "right": null,
            "top": null,
            "visibility": null,
            "width": null
          }
        },
        "0d4996e6fb8049f79ba84859e5d55dce": {
          "model_module": "@jupyter-widgets/controls",
          "model_name": "ProgressStyleModel",
          "model_module_version": "1.5.0",
          "state": {
            "_model_module": "@jupyter-widgets/controls",
            "_model_module_version": "1.5.0",
            "_model_name": "ProgressStyleModel",
            "_view_count": null,
            "_view_module": "@jupyter-widgets/base",
            "_view_module_version": "1.2.0",
            "_view_name": "StyleView",
            "bar_color": null,
            "description_width": ""
          }
        },
        "fa12983774aa487ca91fdda99f588139": {
          "model_module": "@jupyter-widgets/base",
          "model_name": "LayoutModel",
          "model_module_version": "1.2.0",
          "state": {
            "_model_module": "@jupyter-widgets/base",
            "_model_module_version": "1.2.0",
            "_model_name": "LayoutModel",
            "_view_count": null,
            "_view_module": "@jupyter-widgets/base",
            "_view_module_version": "1.2.0",
            "_view_name": "LayoutView",
            "align_content": null,
            "align_items": null,
            "align_self": null,
            "border": null,
            "bottom": null,
            "display": null,
            "flex": null,
            "flex_flow": null,
            "grid_area": null,
            "grid_auto_columns": null,
            "grid_auto_flow": null,
            "grid_auto_rows": null,
            "grid_column": null,
            "grid_gap": null,
            "grid_row": null,
            "grid_template_areas": null,
            "grid_template_columns": null,
            "grid_template_rows": null,
            "height": null,
            "justify_content": null,
            "justify_items": null,
            "left": null,
            "margin": null,
            "max_height": null,
            "max_width": null,
            "min_height": null,
            "min_width": null,
            "object_fit": null,
            "object_position": null,
            "order": null,
            "overflow": null,
            "overflow_x": null,
            "overflow_y": null,
            "padding": null,
            "right": null,
            "top": null,
            "visibility": null,
            "width": null
          }
        },
        "04729c7605d145be95eaaff67ff2ce4f": {
          "model_module": "@jupyter-widgets/controls",
          "model_name": "DescriptionStyleModel",
          "model_module_version": "1.5.0",
          "state": {
            "_model_module": "@jupyter-widgets/controls",
            "_model_module_version": "1.5.0",
            "_model_name": "DescriptionStyleModel",
            "_view_count": null,
            "_view_module": "@jupyter-widgets/base",
            "_view_module_version": "1.2.0",
            "_view_name": "StyleView",
            "description_width": ""
          }
        },
        "2c886ff4436b4b2d9df7f6edc5029c12": {
          "model_module": "@jupyter-widgets/controls",
          "model_name": "HBoxModel",
          "model_module_version": "1.5.0",
          "state": {
            "_dom_classes": [],
            "_model_module": "@jupyter-widgets/controls",
            "_model_module_version": "1.5.0",
            "_model_name": "HBoxModel",
            "_view_count": null,
            "_view_module": "@jupyter-widgets/controls",
            "_view_module_version": "1.5.0",
            "_view_name": "HBoxView",
            "box_style": "",
            "children": [
              "IPY_MODEL_71d47075b9244f6a8d717db8e2e453f0",
              "IPY_MODEL_5f5d9dfcb5c54eb38bac52766c2c2397",
              "IPY_MODEL_7b6422c87aa84188bd5fe306514d206a"
            ],
            "layout": "IPY_MODEL_06dd7de48d26441b9b87f0d8e0bb0c21"
          }
        },
        "71d47075b9244f6a8d717db8e2e453f0": {
          "model_module": "@jupyter-widgets/controls",
          "model_name": "HTMLModel",
          "model_module_version": "1.5.0",
          "state": {
            "_dom_classes": [],
            "_model_module": "@jupyter-widgets/controls",
            "_model_module_version": "1.5.0",
            "_model_name": "HTMLModel",
            "_view_count": null,
            "_view_module": "@jupyter-widgets/controls",
            "_view_module_version": "1.5.0",
            "_view_name": "HTMLView",
            "description": "",
            "description_tooltip": null,
            "layout": "IPY_MODEL_392b6434014544e0ae4bf69755b2a285",
            "placeholder": "​",
            "style": "IPY_MODEL_4a9f0d47cd5a4b82bd294d7620fe40ea",
            "value": "100%"
          }
        },
        "5f5d9dfcb5c54eb38bac52766c2c2397": {
          "model_module": "@jupyter-widgets/controls",
          "model_name": "FloatProgressModel",
          "model_module_version": "1.5.0",
          "state": {
            "_dom_classes": [],
            "_model_module": "@jupyter-widgets/controls",
            "_model_module_version": "1.5.0",
            "_model_name": "FloatProgressModel",
            "_view_count": null,
            "_view_module": "@jupyter-widgets/controls",
            "_view_module_version": "1.5.0",
            "_view_name": "ProgressView",
            "bar_style": "success",
            "description": "",
            "description_tooltip": null,
            "layout": "IPY_MODEL_b25a73fc2d904abba1a3ba6e3305c3c7",
            "max": 2,
            "min": 0,
            "orientation": "horizontal",
            "style": "IPY_MODEL_256663eff0504fe3a2df8272c58d84b4",
            "value": 2
          }
        },
        "7b6422c87aa84188bd5fe306514d206a": {
          "model_module": "@jupyter-widgets/controls",
          "model_name": "HTMLModel",
          "model_module_version": "1.5.0",
          "state": {
            "_dom_classes": [],
            "_model_module": "@jupyter-widgets/controls",
            "_model_module_version": "1.5.0",
            "_model_name": "HTMLModel",
            "_view_count": null,
            "_view_module": "@jupyter-widgets/controls",
            "_view_module_version": "1.5.0",
            "_view_name": "HTMLView",
            "description": "",
            "description_tooltip": null,
            "layout": "IPY_MODEL_a7cc927266284226ad6d274316e31843",
            "placeholder": "​",
            "style": "IPY_MODEL_77857a061f4d421ab878134fa9563eed",
            "value": " 2/2 [01:49&lt;00:00, 54.71s/it]"
          }
        },
        "06dd7de48d26441b9b87f0d8e0bb0c21": {
          "model_module": "@jupyter-widgets/base",
          "model_name": "LayoutModel",
          "model_module_version": "1.2.0",
          "state": {
            "_model_module": "@jupyter-widgets/base",
            "_model_module_version": "1.2.0",
            "_model_name": "LayoutModel",
            "_view_count": null,
            "_view_module": "@jupyter-widgets/base",
            "_view_module_version": "1.2.0",
            "_view_name": "LayoutView",
            "align_content": null,
            "align_items": null,
            "align_self": null,
            "border": null,
            "bottom": null,
            "display": null,
            "flex": null,
            "flex_flow": null,
            "grid_area": null,
            "grid_auto_columns": null,
            "grid_auto_flow": null,
            "grid_auto_rows": null,
            "grid_column": null,
            "grid_gap": null,
            "grid_row": null,
            "grid_template_areas": null,
            "grid_template_columns": null,
            "grid_template_rows": null,
            "height": null,
            "justify_content": null,
            "justify_items": null,
            "left": null,
            "margin": null,
            "max_height": null,
            "max_width": null,
            "min_height": null,
            "min_width": null,
            "object_fit": null,
            "object_position": null,
            "order": null,
            "overflow": null,
            "overflow_x": null,
            "overflow_y": null,
            "padding": null,
            "right": null,
            "top": null,
            "visibility": null,
            "width": null
          }
        },
        "392b6434014544e0ae4bf69755b2a285": {
          "model_module": "@jupyter-widgets/base",
          "model_name": "LayoutModel",
          "model_module_version": "1.2.0",
          "state": {
            "_model_module": "@jupyter-widgets/base",
            "_model_module_version": "1.2.0",
            "_model_name": "LayoutModel",
            "_view_count": null,
            "_view_module": "@jupyter-widgets/base",
            "_view_module_version": "1.2.0",
            "_view_name": "LayoutView",
            "align_content": null,
            "align_items": null,
            "align_self": null,
            "border": null,
            "bottom": null,
            "display": null,
            "flex": null,
            "flex_flow": null,
            "grid_area": null,
            "grid_auto_columns": null,
            "grid_auto_flow": null,
            "grid_auto_rows": null,
            "grid_column": null,
            "grid_gap": null,
            "grid_row": null,
            "grid_template_areas": null,
            "grid_template_columns": null,
            "grid_template_rows": null,
            "height": null,
            "justify_content": null,
            "justify_items": null,
            "left": null,
            "margin": null,
            "max_height": null,
            "max_width": null,
            "min_height": null,
            "min_width": null,
            "object_fit": null,
            "object_position": null,
            "order": null,
            "overflow": null,
            "overflow_x": null,
            "overflow_y": null,
            "padding": null,
            "right": null,
            "top": null,
            "visibility": null,
            "width": null
          }
        },
        "4a9f0d47cd5a4b82bd294d7620fe40ea": {
          "model_module": "@jupyter-widgets/controls",
          "model_name": "DescriptionStyleModel",
          "model_module_version": "1.5.0",
          "state": {
            "_model_module": "@jupyter-widgets/controls",
            "_model_module_version": "1.5.0",
            "_model_name": "DescriptionStyleModel",
            "_view_count": null,
            "_view_module": "@jupyter-widgets/base",
            "_view_module_version": "1.2.0",
            "_view_name": "StyleView",
            "description_width": ""
          }
        },
        "b25a73fc2d904abba1a3ba6e3305c3c7": {
          "model_module": "@jupyter-widgets/base",
          "model_name": "LayoutModel",
          "model_module_version": "1.2.0",
          "state": {
            "_model_module": "@jupyter-widgets/base",
            "_model_module_version": "1.2.0",
            "_model_name": "LayoutModel",
            "_view_count": null,
            "_view_module": "@jupyter-widgets/base",
            "_view_module_version": "1.2.0",
            "_view_name": "LayoutView",
            "align_content": null,
            "align_items": null,
            "align_self": null,
            "border": null,
            "bottom": null,
            "display": null,
            "flex": null,
            "flex_flow": null,
            "grid_area": null,
            "grid_auto_columns": null,
            "grid_auto_flow": null,
            "grid_auto_rows": null,
            "grid_column": null,
            "grid_gap": null,
            "grid_row": null,
            "grid_template_areas": null,
            "grid_template_columns": null,
            "grid_template_rows": null,
            "height": null,
            "justify_content": null,
            "justify_items": null,
            "left": null,
            "margin": null,
            "max_height": null,
            "max_width": null,
            "min_height": null,
            "min_width": null,
            "object_fit": null,
            "object_position": null,
            "order": null,
            "overflow": null,
            "overflow_x": null,
            "overflow_y": null,
            "padding": null,
            "right": null,
            "top": null,
            "visibility": null,
            "width": null
          }
        },
        "256663eff0504fe3a2df8272c58d84b4": {
          "model_module": "@jupyter-widgets/controls",
          "model_name": "ProgressStyleModel",
          "model_module_version": "1.5.0",
          "state": {
            "_model_module": "@jupyter-widgets/controls",
            "_model_module_version": "1.5.0",
            "_model_name": "ProgressStyleModel",
            "_view_count": null,
            "_view_module": "@jupyter-widgets/base",
            "_view_module_version": "1.2.0",
            "_view_name": "StyleView",
            "bar_color": null,
            "description_width": ""
          }
        },
        "a7cc927266284226ad6d274316e31843": {
          "model_module": "@jupyter-widgets/base",
          "model_name": "LayoutModel",
          "model_module_version": "1.2.0",
          "state": {
            "_model_module": "@jupyter-widgets/base",
            "_model_module_version": "1.2.0",
            "_model_name": "LayoutModel",
            "_view_count": null,
            "_view_module": "@jupyter-widgets/base",
            "_view_module_version": "1.2.0",
            "_view_name": "LayoutView",
            "align_content": null,
            "align_items": null,
            "align_self": null,
            "border": null,
            "bottom": null,
            "display": null,
            "flex": null,
            "flex_flow": null,
            "grid_area": null,
            "grid_auto_columns": null,
            "grid_auto_flow": null,
            "grid_auto_rows": null,
            "grid_column": null,
            "grid_gap": null,
            "grid_row": null,
            "grid_template_areas": null,
            "grid_template_columns": null,
            "grid_template_rows": null,
            "height": null,
            "justify_content": null,
            "justify_items": null,
            "left": null,
            "margin": null,
            "max_height": null,
            "max_width": null,
            "min_height": null,
            "min_width": null,
            "object_fit": null,
            "object_position": null,
            "order": null,
            "overflow": null,
            "overflow_x": null,
            "overflow_y": null,
            "padding": null,
            "right": null,
            "top": null,
            "visibility": null,
            "width": null
          }
        },
        "77857a061f4d421ab878134fa9563eed": {
          "model_module": "@jupyter-widgets/controls",
          "model_name": "DescriptionStyleModel",
          "model_module_version": "1.5.0",
          "state": {
            "_model_module": "@jupyter-widgets/controls",
            "_model_module_version": "1.5.0",
            "_model_name": "DescriptionStyleModel",
            "_view_count": null,
            "_view_module": "@jupyter-widgets/base",
            "_view_module_version": "1.2.0",
            "_view_name": "StyleView",
            "description_width": ""
          }
        },
        "2799b625be994a549b4b1082df05c909": {
          "model_module": "@jupyter-widgets/controls",
          "model_name": "HBoxModel",
          "model_module_version": "1.5.0",
          "state": {
            "_dom_classes": [],
            "_model_module": "@jupyter-widgets/controls",
            "_model_module_version": "1.5.0",
            "_model_name": "HBoxModel",
            "_view_count": null,
            "_view_module": "@jupyter-widgets/controls",
            "_view_module_version": "1.5.0",
            "_view_name": "HBoxView",
            "box_style": "",
            "children": [
              "IPY_MODEL_aa5f6082d8d046ba883bd38e6d019289",
              "IPY_MODEL_7f8c933c89fa486f867246bf21219d67",
              "IPY_MODEL_fbe9cf5b0d5f47f485127768003902c8"
            ],
            "layout": "IPY_MODEL_5eda701712cc4b77b1cdcd4d3136ce66"
          }
        },
        "aa5f6082d8d046ba883bd38e6d019289": {
          "model_module": "@jupyter-widgets/controls",
          "model_name": "HTMLModel",
          "model_module_version": "1.5.0",
          "state": {
            "_dom_classes": [],
            "_model_module": "@jupyter-widgets/controls",
            "_model_module_version": "1.5.0",
            "_model_name": "HTMLModel",
            "_view_count": null,
            "_view_module": "@jupyter-widgets/controls",
            "_view_module_version": "1.5.0",
            "_view_name": "HTMLView",
            "description": "",
            "description_tooltip": null,
            "layout": "IPY_MODEL_ca0d1a37b9fd4b49ad6dd05a111cde7e",
            "placeholder": "​",
            "style": "IPY_MODEL_748875db26b340a585f94f9c638c4632",
            "value": "100%"
          }
        },
        "7f8c933c89fa486f867246bf21219d67": {
          "model_module": "@jupyter-widgets/controls",
          "model_name": "FloatProgressModel",
          "model_module_version": "1.5.0",
          "state": {
            "_dom_classes": [],
            "_model_module": "@jupyter-widgets/controls",
            "_model_module_version": "1.5.0",
            "_model_name": "FloatProgressModel",
            "_view_count": null,
            "_view_module": "@jupyter-widgets/controls",
            "_view_module_version": "1.5.0",
            "_view_name": "ProgressView",
            "bar_style": "success",
            "description": "",
            "description_tooltip": null,
            "layout": "IPY_MODEL_184b79c06740461694fa732db5505fe6",
            "max": 67,
            "min": 0,
            "orientation": "horizontal",
            "style": "IPY_MODEL_3e2b44c6ce704922b36fe023f25ac6d5",
            "value": 67
          }
        },
        "fbe9cf5b0d5f47f485127768003902c8": {
          "model_module": "@jupyter-widgets/controls",
          "model_name": "HTMLModel",
          "model_module_version": "1.5.0",
          "state": {
            "_dom_classes": [],
            "_model_module": "@jupyter-widgets/controls",
            "_model_module_version": "1.5.0",
            "_model_name": "HTMLModel",
            "_view_count": null,
            "_view_module": "@jupyter-widgets/controls",
            "_view_module_version": "1.5.0",
            "_view_name": "HTMLView",
            "description": "",
            "description_tooltip": null,
            "layout": "IPY_MODEL_f1d7177459d24d9ebc0ce488866e1481",
            "placeholder": "​",
            "style": "IPY_MODEL_023597735eb24b36b4117af1ab505259",
            "value": " 67/67 [00:46&lt;00:00,  1.50it/s]"
          }
        },
        "5eda701712cc4b77b1cdcd4d3136ce66": {
          "model_module": "@jupyter-widgets/base",
          "model_name": "LayoutModel",
          "model_module_version": "1.2.0",
          "state": {
            "_model_module": "@jupyter-widgets/base",
            "_model_module_version": "1.2.0",
            "_model_name": "LayoutModel",
            "_view_count": null,
            "_view_module": "@jupyter-widgets/base",
            "_view_module_version": "1.2.0",
            "_view_name": "LayoutView",
            "align_content": null,
            "align_items": null,
            "align_self": null,
            "border": null,
            "bottom": null,
            "display": null,
            "flex": null,
            "flex_flow": null,
            "grid_area": null,
            "grid_auto_columns": null,
            "grid_auto_flow": null,
            "grid_auto_rows": null,
            "grid_column": null,
            "grid_gap": null,
            "grid_row": null,
            "grid_template_areas": null,
            "grid_template_columns": null,
            "grid_template_rows": null,
            "height": null,
            "justify_content": null,
            "justify_items": null,
            "left": null,
            "margin": null,
            "max_height": null,
            "max_width": null,
            "min_height": null,
            "min_width": null,
            "object_fit": null,
            "object_position": null,
            "order": null,
            "overflow": null,
            "overflow_x": null,
            "overflow_y": null,
            "padding": null,
            "right": null,
            "top": null,
            "visibility": null,
            "width": null
          }
        },
        "ca0d1a37b9fd4b49ad6dd05a111cde7e": {
          "model_module": "@jupyter-widgets/base",
          "model_name": "LayoutModel",
          "model_module_version": "1.2.0",
          "state": {
            "_model_module": "@jupyter-widgets/base",
            "_model_module_version": "1.2.0",
            "_model_name": "LayoutModel",
            "_view_count": null,
            "_view_module": "@jupyter-widgets/base",
            "_view_module_version": "1.2.0",
            "_view_name": "LayoutView",
            "align_content": null,
            "align_items": null,
            "align_self": null,
            "border": null,
            "bottom": null,
            "display": null,
            "flex": null,
            "flex_flow": null,
            "grid_area": null,
            "grid_auto_columns": null,
            "grid_auto_flow": null,
            "grid_auto_rows": null,
            "grid_column": null,
            "grid_gap": null,
            "grid_row": null,
            "grid_template_areas": null,
            "grid_template_columns": null,
            "grid_template_rows": null,
            "height": null,
            "justify_content": null,
            "justify_items": null,
            "left": null,
            "margin": null,
            "max_height": null,
            "max_width": null,
            "min_height": null,
            "min_width": null,
            "object_fit": null,
            "object_position": null,
            "order": null,
            "overflow": null,
            "overflow_x": null,
            "overflow_y": null,
            "padding": null,
            "right": null,
            "top": null,
            "visibility": null,
            "width": null
          }
        },
        "748875db26b340a585f94f9c638c4632": {
          "model_module": "@jupyter-widgets/controls",
          "model_name": "DescriptionStyleModel",
          "model_module_version": "1.5.0",
          "state": {
            "_model_module": "@jupyter-widgets/controls",
            "_model_module_version": "1.5.0",
            "_model_name": "DescriptionStyleModel",
            "_view_count": null,
            "_view_module": "@jupyter-widgets/base",
            "_view_module_version": "1.2.0",
            "_view_name": "StyleView",
            "description_width": ""
          }
        },
        "184b79c06740461694fa732db5505fe6": {
          "model_module": "@jupyter-widgets/base",
          "model_name": "LayoutModel",
          "model_module_version": "1.2.0",
          "state": {
            "_model_module": "@jupyter-widgets/base",
            "_model_module_version": "1.2.0",
            "_model_name": "LayoutModel",
            "_view_count": null,
            "_view_module": "@jupyter-widgets/base",
            "_view_module_version": "1.2.0",
            "_view_name": "LayoutView",
            "align_content": null,
            "align_items": null,
            "align_self": null,
            "border": null,
            "bottom": null,
            "display": null,
            "flex": null,
            "flex_flow": null,
            "grid_area": null,
            "grid_auto_columns": null,
            "grid_auto_flow": null,
            "grid_auto_rows": null,
            "grid_column": null,
            "grid_gap": null,
            "grid_row": null,
            "grid_template_areas": null,
            "grid_template_columns": null,
            "grid_template_rows": null,
            "height": null,
            "justify_content": null,
            "justify_items": null,
            "left": null,
            "margin": null,
            "max_height": null,
            "max_width": null,
            "min_height": null,
            "min_width": null,
            "object_fit": null,
            "object_position": null,
            "order": null,
            "overflow": null,
            "overflow_x": null,
            "overflow_y": null,
            "padding": null,
            "right": null,
            "top": null,
            "visibility": null,
            "width": null
          }
        },
        "3e2b44c6ce704922b36fe023f25ac6d5": {
          "model_module": "@jupyter-widgets/controls",
          "model_name": "ProgressStyleModel",
          "model_module_version": "1.5.0",
          "state": {
            "_model_module": "@jupyter-widgets/controls",
            "_model_module_version": "1.5.0",
            "_model_name": "ProgressStyleModel",
            "_view_count": null,
            "_view_module": "@jupyter-widgets/base",
            "_view_module_version": "1.2.0",
            "_view_name": "StyleView",
            "bar_color": null,
            "description_width": ""
          }
        },
        "f1d7177459d24d9ebc0ce488866e1481": {
          "model_module": "@jupyter-widgets/base",
          "model_name": "LayoutModel",
          "model_module_version": "1.2.0",
          "state": {
            "_model_module": "@jupyter-widgets/base",
            "_model_module_version": "1.2.0",
            "_model_name": "LayoutModel",
            "_view_count": null,
            "_view_module": "@jupyter-widgets/base",
            "_view_module_version": "1.2.0",
            "_view_name": "LayoutView",
            "align_content": null,
            "align_items": null,
            "align_self": null,
            "border": null,
            "bottom": null,
            "display": null,
            "flex": null,
            "flex_flow": null,
            "grid_area": null,
            "grid_auto_columns": null,
            "grid_auto_flow": null,
            "grid_auto_rows": null,
            "grid_column": null,
            "grid_gap": null,
            "grid_row": null,
            "grid_template_areas": null,
            "grid_template_columns": null,
            "grid_template_rows": null,
            "height": null,
            "justify_content": null,
            "justify_items": null,
            "left": null,
            "margin": null,
            "max_height": null,
            "max_width": null,
            "min_height": null,
            "min_width": null,
            "object_fit": null,
            "object_position": null,
            "order": null,
            "overflow": null,
            "overflow_x": null,
            "overflow_y": null,
            "padding": null,
            "right": null,
            "top": null,
            "visibility": null,
            "width": null
          }
        },
        "023597735eb24b36b4117af1ab505259": {
          "model_module": "@jupyter-widgets/controls",
          "model_name": "DescriptionStyleModel",
          "model_module_version": "1.5.0",
          "state": {
            "_model_module": "@jupyter-widgets/controls",
            "_model_module_version": "1.5.0",
            "_model_name": "DescriptionStyleModel",
            "_view_count": null,
            "_view_module": "@jupyter-widgets/base",
            "_view_module_version": "1.2.0",
            "_view_name": "StyleView",
            "description_width": ""
          }
        },
        "6a7780a180b54d59a164d2bf8fd00eab": {
          "model_module": "@jupyter-widgets/controls",
          "model_name": "HBoxModel",
          "model_module_version": "1.5.0",
          "state": {
            "_dom_classes": [],
            "_model_module": "@jupyter-widgets/controls",
            "_model_module_version": "1.5.0",
            "_model_name": "HBoxModel",
            "_view_count": null,
            "_view_module": "@jupyter-widgets/controls",
            "_view_module_version": "1.5.0",
            "_view_name": "HBoxView",
            "box_style": "",
            "children": [
              "IPY_MODEL_5a34c54020b644de89236c06ecbdf311",
              "IPY_MODEL_e88e561196534c9d911fb301fce95ec1",
              "IPY_MODEL_56d5d8660725442e9d00da89390bd210"
            ],
            "layout": "IPY_MODEL_c7c80a2100864541aeff744855b6b32f"
          }
        },
        "5a34c54020b644de89236c06ecbdf311": {
          "model_module": "@jupyter-widgets/controls",
          "model_name": "HTMLModel",
          "model_module_version": "1.5.0",
          "state": {
            "_dom_classes": [],
            "_model_module": "@jupyter-widgets/controls",
            "_model_module_version": "1.5.0",
            "_model_name": "HTMLModel",
            "_view_count": null,
            "_view_module": "@jupyter-widgets/controls",
            "_view_module_version": "1.5.0",
            "_view_name": "HTMLView",
            "description": "",
            "description_tooltip": null,
            "layout": "IPY_MODEL_69791b7921cc4cfba8b246ed98640bf2",
            "placeholder": "​",
            "style": "IPY_MODEL_670958b7a5c84a5ba5464a8e43f5fce1",
            "value": "100%"
          }
        },
        "e88e561196534c9d911fb301fce95ec1": {
          "model_module": "@jupyter-widgets/controls",
          "model_name": "FloatProgressModel",
          "model_module_version": "1.5.0",
          "state": {
            "_dom_classes": [],
            "_model_module": "@jupyter-widgets/controls",
            "_model_module_version": "1.5.0",
            "_model_name": "FloatProgressModel",
            "_view_count": null,
            "_view_module": "@jupyter-widgets/controls",
            "_view_module_version": "1.5.0",
            "_view_name": "ProgressView",
            "bar_style": "success",
            "description": "",
            "description_tooltip": null,
            "layout": "IPY_MODEL_e438ec3f734a43ffa22ea14220f12933",
            "max": 10,
            "min": 0,
            "orientation": "horizontal",
            "style": "IPY_MODEL_beede922871849f29d81093a52d382e7",
            "value": 10
          }
        },
        "56d5d8660725442e9d00da89390bd210": {
          "model_module": "@jupyter-widgets/controls",
          "model_name": "HTMLModel",
          "model_module_version": "1.5.0",
          "state": {
            "_dom_classes": [],
            "_model_module": "@jupyter-widgets/controls",
            "_model_module_version": "1.5.0",
            "_model_name": "HTMLModel",
            "_view_count": null,
            "_view_module": "@jupyter-widgets/controls",
            "_view_module_version": "1.5.0",
            "_view_name": "HTMLView",
            "description": "",
            "description_tooltip": null,
            "layout": "IPY_MODEL_64ec39ba110744839652952e287d948c",
            "placeholder": "​",
            "style": "IPY_MODEL_db3727483943427f9d0fd3d54c89d48b",
            "value": " 10/10 [00:04&lt;00:00,  2.50it/s]"
          }
        },
        "c7c80a2100864541aeff744855b6b32f": {
          "model_module": "@jupyter-widgets/base",
          "model_name": "LayoutModel",
          "model_module_version": "1.2.0",
          "state": {
            "_model_module": "@jupyter-widgets/base",
            "_model_module_version": "1.2.0",
            "_model_name": "LayoutModel",
            "_view_count": null,
            "_view_module": "@jupyter-widgets/base",
            "_view_module_version": "1.2.0",
            "_view_name": "LayoutView",
            "align_content": null,
            "align_items": null,
            "align_self": null,
            "border": null,
            "bottom": null,
            "display": null,
            "flex": null,
            "flex_flow": null,
            "grid_area": null,
            "grid_auto_columns": null,
            "grid_auto_flow": null,
            "grid_auto_rows": null,
            "grid_column": null,
            "grid_gap": null,
            "grid_row": null,
            "grid_template_areas": null,
            "grid_template_columns": null,
            "grid_template_rows": null,
            "height": null,
            "justify_content": null,
            "justify_items": null,
            "left": null,
            "margin": null,
            "max_height": null,
            "max_width": null,
            "min_height": null,
            "min_width": null,
            "object_fit": null,
            "object_position": null,
            "order": null,
            "overflow": null,
            "overflow_x": null,
            "overflow_y": null,
            "padding": null,
            "right": null,
            "top": null,
            "visibility": null,
            "width": null
          }
        },
        "69791b7921cc4cfba8b246ed98640bf2": {
          "model_module": "@jupyter-widgets/base",
          "model_name": "LayoutModel",
          "model_module_version": "1.2.0",
          "state": {
            "_model_module": "@jupyter-widgets/base",
            "_model_module_version": "1.2.0",
            "_model_name": "LayoutModel",
            "_view_count": null,
            "_view_module": "@jupyter-widgets/base",
            "_view_module_version": "1.2.0",
            "_view_name": "LayoutView",
            "align_content": null,
            "align_items": null,
            "align_self": null,
            "border": null,
            "bottom": null,
            "display": null,
            "flex": null,
            "flex_flow": null,
            "grid_area": null,
            "grid_auto_columns": null,
            "grid_auto_flow": null,
            "grid_auto_rows": null,
            "grid_column": null,
            "grid_gap": null,
            "grid_row": null,
            "grid_template_areas": null,
            "grid_template_columns": null,
            "grid_template_rows": null,
            "height": null,
            "justify_content": null,
            "justify_items": null,
            "left": null,
            "margin": null,
            "max_height": null,
            "max_width": null,
            "min_height": null,
            "min_width": null,
            "object_fit": null,
            "object_position": null,
            "order": null,
            "overflow": null,
            "overflow_x": null,
            "overflow_y": null,
            "padding": null,
            "right": null,
            "top": null,
            "visibility": null,
            "width": null
          }
        },
        "670958b7a5c84a5ba5464a8e43f5fce1": {
          "model_module": "@jupyter-widgets/controls",
          "model_name": "DescriptionStyleModel",
          "model_module_version": "1.5.0",
          "state": {
            "_model_module": "@jupyter-widgets/controls",
            "_model_module_version": "1.5.0",
            "_model_name": "DescriptionStyleModel",
            "_view_count": null,
            "_view_module": "@jupyter-widgets/base",
            "_view_module_version": "1.2.0",
            "_view_name": "StyleView",
            "description_width": ""
          }
        },
        "e438ec3f734a43ffa22ea14220f12933": {
          "model_module": "@jupyter-widgets/base",
          "model_name": "LayoutModel",
          "model_module_version": "1.2.0",
          "state": {
            "_model_module": "@jupyter-widgets/base",
            "_model_module_version": "1.2.0",
            "_model_name": "LayoutModel",
            "_view_count": null,
            "_view_module": "@jupyter-widgets/base",
            "_view_module_version": "1.2.0",
            "_view_name": "LayoutView",
            "align_content": null,
            "align_items": null,
            "align_self": null,
            "border": null,
            "bottom": null,
            "display": null,
            "flex": null,
            "flex_flow": null,
            "grid_area": null,
            "grid_auto_columns": null,
            "grid_auto_flow": null,
            "grid_auto_rows": null,
            "grid_column": null,
            "grid_gap": null,
            "grid_row": null,
            "grid_template_areas": null,
            "grid_template_columns": null,
            "grid_template_rows": null,
            "height": null,
            "justify_content": null,
            "justify_items": null,
            "left": null,
            "margin": null,
            "max_height": null,
            "max_width": null,
            "min_height": null,
            "min_width": null,
            "object_fit": null,
            "object_position": null,
            "order": null,
            "overflow": null,
            "overflow_x": null,
            "overflow_y": null,
            "padding": null,
            "right": null,
            "top": null,
            "visibility": null,
            "width": null
          }
        },
        "beede922871849f29d81093a52d382e7": {
          "model_module": "@jupyter-widgets/controls",
          "model_name": "ProgressStyleModel",
          "model_module_version": "1.5.0",
          "state": {
            "_model_module": "@jupyter-widgets/controls",
            "_model_module_version": "1.5.0",
            "_model_name": "ProgressStyleModel",
            "_view_count": null,
            "_view_module": "@jupyter-widgets/base",
            "_view_module_version": "1.2.0",
            "_view_name": "StyleView",
            "bar_color": null,
            "description_width": ""
          }
        },
        "64ec39ba110744839652952e287d948c": {
          "model_module": "@jupyter-widgets/base",
          "model_name": "LayoutModel",
          "model_module_version": "1.2.0",
          "state": {
            "_model_module": "@jupyter-widgets/base",
            "_model_module_version": "1.2.0",
            "_model_name": "LayoutModel",
            "_view_count": null,
            "_view_module": "@jupyter-widgets/base",
            "_view_module_version": "1.2.0",
            "_view_name": "LayoutView",
            "align_content": null,
            "align_items": null,
            "align_self": null,
            "border": null,
            "bottom": null,
            "display": null,
            "flex": null,
            "flex_flow": null,
            "grid_area": null,
            "grid_auto_columns": null,
            "grid_auto_flow": null,
            "grid_auto_rows": null,
            "grid_column": null,
            "grid_gap": null,
            "grid_row": null,
            "grid_template_areas": null,
            "grid_template_columns": null,
            "grid_template_rows": null,
            "height": null,
            "justify_content": null,
            "justify_items": null,
            "left": null,
            "margin": null,
            "max_height": null,
            "max_width": null,
            "min_height": null,
            "min_width": null,
            "object_fit": null,
            "object_position": null,
            "order": null,
            "overflow": null,
            "overflow_x": null,
            "overflow_y": null,
            "padding": null,
            "right": null,
            "top": null,
            "visibility": null,
            "width": null
          }
        },
        "db3727483943427f9d0fd3d54c89d48b": {
          "model_module": "@jupyter-widgets/controls",
          "model_name": "DescriptionStyleModel",
          "model_module_version": "1.5.0",
          "state": {
            "_model_module": "@jupyter-widgets/controls",
            "_model_module_version": "1.5.0",
            "_model_name": "DescriptionStyleModel",
            "_view_count": null,
            "_view_module": "@jupyter-widgets/base",
            "_view_module_version": "1.2.0",
            "_view_name": "StyleView",
            "description_width": ""
          }
        },
        "9152e7813f2841a28f920bd4f5f1f7af": {
          "model_module": "@jupyter-widgets/controls",
          "model_name": "HBoxModel",
          "model_module_version": "1.5.0",
          "state": {
            "_dom_classes": [],
            "_model_module": "@jupyter-widgets/controls",
            "_model_module_version": "1.5.0",
            "_model_name": "HBoxModel",
            "_view_count": null,
            "_view_module": "@jupyter-widgets/controls",
            "_view_module_version": "1.5.0",
            "_view_name": "HBoxView",
            "box_style": "",
            "children": [
              "IPY_MODEL_eddcc59108a743fda4f470ec18608eea",
              "IPY_MODEL_b4037642ae734a09bc8160bcd2a56065",
              "IPY_MODEL_bad112f5cfeb4ebfb984616164d00d5a"
            ],
            "layout": "IPY_MODEL_badbcda106074509928843a7e925d37b"
          }
        },
        "eddcc59108a743fda4f470ec18608eea": {
          "model_module": "@jupyter-widgets/controls",
          "model_name": "HTMLModel",
          "model_module_version": "1.5.0",
          "state": {
            "_dom_classes": [],
            "_model_module": "@jupyter-widgets/controls",
            "_model_module_version": "1.5.0",
            "_model_name": "HTMLModel",
            "_view_count": null,
            "_view_module": "@jupyter-widgets/controls",
            "_view_module_version": "1.5.0",
            "_view_name": "HTMLView",
            "description": "",
            "description_tooltip": null,
            "layout": "IPY_MODEL_c6c076f469ea42fd8c7c97aa087973ee",
            "placeholder": "​",
            "style": "IPY_MODEL_2cc559068cf441d5af1921f7a043acc1",
            "value": "100%"
          }
        },
        "b4037642ae734a09bc8160bcd2a56065": {
          "model_module": "@jupyter-widgets/controls",
          "model_name": "FloatProgressModel",
          "model_module_version": "1.5.0",
          "state": {
            "_dom_classes": [],
            "_model_module": "@jupyter-widgets/controls",
            "_model_module_version": "1.5.0",
            "_model_name": "FloatProgressModel",
            "_view_count": null,
            "_view_module": "@jupyter-widgets/controls",
            "_view_module_version": "1.5.0",
            "_view_name": "ProgressView",
            "bar_style": "success",
            "description": "",
            "description_tooltip": null,
            "layout": "IPY_MODEL_52b6c5ba6759472b8b27d5061a2bc16f",
            "max": 67,
            "min": 0,
            "orientation": "horizontal",
            "style": "IPY_MODEL_705ab6b630454fe1bb790487f4e8eaf8",
            "value": 67
          }
        },
        "bad112f5cfeb4ebfb984616164d00d5a": {
          "model_module": "@jupyter-widgets/controls",
          "model_name": "HTMLModel",
          "model_module_version": "1.5.0",
          "state": {
            "_dom_classes": [],
            "_model_module": "@jupyter-widgets/controls",
            "_model_module_version": "1.5.0",
            "_model_name": "HTMLModel",
            "_view_count": null,
            "_view_module": "@jupyter-widgets/controls",
            "_view_module_version": "1.5.0",
            "_view_name": "HTMLView",
            "description": "",
            "description_tooltip": null,
            "layout": "IPY_MODEL_d465945ed7e1407fb105de4060b9cfc7",
            "placeholder": "​",
            "style": "IPY_MODEL_13c09ae9ba424dc494684243b0ee7dd0",
            "value": " 67/67 [00:46&lt;00:00,  1.48it/s]"
          }
        },
        "badbcda106074509928843a7e925d37b": {
          "model_module": "@jupyter-widgets/base",
          "model_name": "LayoutModel",
          "model_module_version": "1.2.0",
          "state": {
            "_model_module": "@jupyter-widgets/base",
            "_model_module_version": "1.2.0",
            "_model_name": "LayoutModel",
            "_view_count": null,
            "_view_module": "@jupyter-widgets/base",
            "_view_module_version": "1.2.0",
            "_view_name": "LayoutView",
            "align_content": null,
            "align_items": null,
            "align_self": null,
            "border": null,
            "bottom": null,
            "display": null,
            "flex": null,
            "flex_flow": null,
            "grid_area": null,
            "grid_auto_columns": null,
            "grid_auto_flow": null,
            "grid_auto_rows": null,
            "grid_column": null,
            "grid_gap": null,
            "grid_row": null,
            "grid_template_areas": null,
            "grid_template_columns": null,
            "grid_template_rows": null,
            "height": null,
            "justify_content": null,
            "justify_items": null,
            "left": null,
            "margin": null,
            "max_height": null,
            "max_width": null,
            "min_height": null,
            "min_width": null,
            "object_fit": null,
            "object_position": null,
            "order": null,
            "overflow": null,
            "overflow_x": null,
            "overflow_y": null,
            "padding": null,
            "right": null,
            "top": null,
            "visibility": null,
            "width": null
          }
        },
        "c6c076f469ea42fd8c7c97aa087973ee": {
          "model_module": "@jupyter-widgets/base",
          "model_name": "LayoutModel",
          "model_module_version": "1.2.0",
          "state": {
            "_model_module": "@jupyter-widgets/base",
            "_model_module_version": "1.2.0",
            "_model_name": "LayoutModel",
            "_view_count": null,
            "_view_module": "@jupyter-widgets/base",
            "_view_module_version": "1.2.0",
            "_view_name": "LayoutView",
            "align_content": null,
            "align_items": null,
            "align_self": null,
            "border": null,
            "bottom": null,
            "display": null,
            "flex": null,
            "flex_flow": null,
            "grid_area": null,
            "grid_auto_columns": null,
            "grid_auto_flow": null,
            "grid_auto_rows": null,
            "grid_column": null,
            "grid_gap": null,
            "grid_row": null,
            "grid_template_areas": null,
            "grid_template_columns": null,
            "grid_template_rows": null,
            "height": null,
            "justify_content": null,
            "justify_items": null,
            "left": null,
            "margin": null,
            "max_height": null,
            "max_width": null,
            "min_height": null,
            "min_width": null,
            "object_fit": null,
            "object_position": null,
            "order": null,
            "overflow": null,
            "overflow_x": null,
            "overflow_y": null,
            "padding": null,
            "right": null,
            "top": null,
            "visibility": null,
            "width": null
          }
        },
        "2cc559068cf441d5af1921f7a043acc1": {
          "model_module": "@jupyter-widgets/controls",
          "model_name": "DescriptionStyleModel",
          "model_module_version": "1.5.0",
          "state": {
            "_model_module": "@jupyter-widgets/controls",
            "_model_module_version": "1.5.0",
            "_model_name": "DescriptionStyleModel",
            "_view_count": null,
            "_view_module": "@jupyter-widgets/base",
            "_view_module_version": "1.2.0",
            "_view_name": "StyleView",
            "description_width": ""
          }
        },
        "52b6c5ba6759472b8b27d5061a2bc16f": {
          "model_module": "@jupyter-widgets/base",
          "model_name": "LayoutModel",
          "model_module_version": "1.2.0",
          "state": {
            "_model_module": "@jupyter-widgets/base",
            "_model_module_version": "1.2.0",
            "_model_name": "LayoutModel",
            "_view_count": null,
            "_view_module": "@jupyter-widgets/base",
            "_view_module_version": "1.2.0",
            "_view_name": "LayoutView",
            "align_content": null,
            "align_items": null,
            "align_self": null,
            "border": null,
            "bottom": null,
            "display": null,
            "flex": null,
            "flex_flow": null,
            "grid_area": null,
            "grid_auto_columns": null,
            "grid_auto_flow": null,
            "grid_auto_rows": null,
            "grid_column": null,
            "grid_gap": null,
            "grid_row": null,
            "grid_template_areas": null,
            "grid_template_columns": null,
            "grid_template_rows": null,
            "height": null,
            "justify_content": null,
            "justify_items": null,
            "left": null,
            "margin": null,
            "max_height": null,
            "max_width": null,
            "min_height": null,
            "min_width": null,
            "object_fit": null,
            "object_position": null,
            "order": null,
            "overflow": null,
            "overflow_x": null,
            "overflow_y": null,
            "padding": null,
            "right": null,
            "top": null,
            "visibility": null,
            "width": null
          }
        },
        "705ab6b630454fe1bb790487f4e8eaf8": {
          "model_module": "@jupyter-widgets/controls",
          "model_name": "ProgressStyleModel",
          "model_module_version": "1.5.0",
          "state": {
            "_model_module": "@jupyter-widgets/controls",
            "_model_module_version": "1.5.0",
            "_model_name": "ProgressStyleModel",
            "_view_count": null,
            "_view_module": "@jupyter-widgets/base",
            "_view_module_version": "1.2.0",
            "_view_name": "StyleView",
            "bar_color": null,
            "description_width": ""
          }
        },
        "d465945ed7e1407fb105de4060b9cfc7": {
          "model_module": "@jupyter-widgets/base",
          "model_name": "LayoutModel",
          "model_module_version": "1.2.0",
          "state": {
            "_model_module": "@jupyter-widgets/base",
            "_model_module_version": "1.2.0",
            "_model_name": "LayoutModel",
            "_view_count": null,
            "_view_module": "@jupyter-widgets/base",
            "_view_module_version": "1.2.0",
            "_view_name": "LayoutView",
            "align_content": null,
            "align_items": null,
            "align_self": null,
            "border": null,
            "bottom": null,
            "display": null,
            "flex": null,
            "flex_flow": null,
            "grid_area": null,
            "grid_auto_columns": null,
            "grid_auto_flow": null,
            "grid_auto_rows": null,
            "grid_column": null,
            "grid_gap": null,
            "grid_row": null,
            "grid_template_areas": null,
            "grid_template_columns": null,
            "grid_template_rows": null,
            "height": null,
            "justify_content": null,
            "justify_items": null,
            "left": null,
            "margin": null,
            "max_height": null,
            "max_width": null,
            "min_height": null,
            "min_width": null,
            "object_fit": null,
            "object_position": null,
            "order": null,
            "overflow": null,
            "overflow_x": null,
            "overflow_y": null,
            "padding": null,
            "right": null,
            "top": null,
            "visibility": null,
            "width": null
          }
        },
        "13c09ae9ba424dc494684243b0ee7dd0": {
          "model_module": "@jupyter-widgets/controls",
          "model_name": "DescriptionStyleModel",
          "model_module_version": "1.5.0",
          "state": {
            "_model_module": "@jupyter-widgets/controls",
            "_model_module_version": "1.5.0",
            "_model_name": "DescriptionStyleModel",
            "_view_count": null,
            "_view_module": "@jupyter-widgets/base",
            "_view_module_version": "1.2.0",
            "_view_name": "StyleView",
            "description_width": ""
          }
        },
        "6efc11191b6e4f67be584dec1e546514": {
          "model_module": "@jupyter-widgets/controls",
          "model_name": "HBoxModel",
          "model_module_version": "1.5.0",
          "state": {
            "_dom_classes": [],
            "_model_module": "@jupyter-widgets/controls",
            "_model_module_version": "1.5.0",
            "_model_name": "HBoxModel",
            "_view_count": null,
            "_view_module": "@jupyter-widgets/controls",
            "_view_module_version": "1.5.0",
            "_view_name": "HBoxView",
            "box_style": "",
            "children": [
              "IPY_MODEL_eb7b8d263b474013a4dd71b05967f909",
              "IPY_MODEL_4c2f0c80b3d04b72aac8f1a70271cb3b",
              "IPY_MODEL_e057c1cb40d04875a809cb19838be554"
            ],
            "layout": "IPY_MODEL_a9c79a1c49a8432ebf6a0b7250c33d04"
          }
        },
        "eb7b8d263b474013a4dd71b05967f909": {
          "model_module": "@jupyter-widgets/controls",
          "model_name": "HTMLModel",
          "model_module_version": "1.5.0",
          "state": {
            "_dom_classes": [],
            "_model_module": "@jupyter-widgets/controls",
            "_model_module_version": "1.5.0",
            "_model_name": "HTMLModel",
            "_view_count": null,
            "_view_module": "@jupyter-widgets/controls",
            "_view_module_version": "1.5.0",
            "_view_name": "HTMLView",
            "description": "",
            "description_tooltip": null,
            "layout": "IPY_MODEL_eb48e2cf44da48689fe1864a22ab29aa",
            "placeholder": "​",
            "style": "IPY_MODEL_261bcff7711b47f1b55286e4749d508a",
            "value": "100%"
          }
        },
        "4c2f0c80b3d04b72aac8f1a70271cb3b": {
          "model_module": "@jupyter-widgets/controls",
          "model_name": "FloatProgressModel",
          "model_module_version": "1.5.0",
          "state": {
            "_dom_classes": [],
            "_model_module": "@jupyter-widgets/controls",
            "_model_module_version": "1.5.0",
            "_model_name": "FloatProgressModel",
            "_view_count": null,
            "_view_module": "@jupyter-widgets/controls",
            "_view_module_version": "1.5.0",
            "_view_name": "ProgressView",
            "bar_style": "success",
            "description": "",
            "description_tooltip": null,
            "layout": "IPY_MODEL_f9cd5b7e271e422abcbe5bd1f5de5f9c",
            "max": 10,
            "min": 0,
            "orientation": "horizontal",
            "style": "IPY_MODEL_efe1dafc282c4178b825710d6cd8a965",
            "value": 10
          }
        },
        "e057c1cb40d04875a809cb19838be554": {
          "model_module": "@jupyter-widgets/controls",
          "model_name": "HTMLModel",
          "model_module_version": "1.5.0",
          "state": {
            "_dom_classes": [],
            "_model_module": "@jupyter-widgets/controls",
            "_model_module_version": "1.5.0",
            "_model_name": "HTMLModel",
            "_view_count": null,
            "_view_module": "@jupyter-widgets/controls",
            "_view_module_version": "1.5.0",
            "_view_name": "HTMLView",
            "description": "",
            "description_tooltip": null,
            "layout": "IPY_MODEL_987b062d7c3745c686f807021a94b9d8",
            "placeholder": "​",
            "style": "IPY_MODEL_860d2dbbd26b4b399c99810c55c08587",
            "value": " 10/10 [00:04&lt;00:00,  2.45it/s]"
          }
        },
        "a9c79a1c49a8432ebf6a0b7250c33d04": {
          "model_module": "@jupyter-widgets/base",
          "model_name": "LayoutModel",
          "model_module_version": "1.2.0",
          "state": {
            "_model_module": "@jupyter-widgets/base",
            "_model_module_version": "1.2.0",
            "_model_name": "LayoutModel",
            "_view_count": null,
            "_view_module": "@jupyter-widgets/base",
            "_view_module_version": "1.2.0",
            "_view_name": "LayoutView",
            "align_content": null,
            "align_items": null,
            "align_self": null,
            "border": null,
            "bottom": null,
            "display": null,
            "flex": null,
            "flex_flow": null,
            "grid_area": null,
            "grid_auto_columns": null,
            "grid_auto_flow": null,
            "grid_auto_rows": null,
            "grid_column": null,
            "grid_gap": null,
            "grid_row": null,
            "grid_template_areas": null,
            "grid_template_columns": null,
            "grid_template_rows": null,
            "height": null,
            "justify_content": null,
            "justify_items": null,
            "left": null,
            "margin": null,
            "max_height": null,
            "max_width": null,
            "min_height": null,
            "min_width": null,
            "object_fit": null,
            "object_position": null,
            "order": null,
            "overflow": null,
            "overflow_x": null,
            "overflow_y": null,
            "padding": null,
            "right": null,
            "top": null,
            "visibility": null,
            "width": null
          }
        },
        "eb48e2cf44da48689fe1864a22ab29aa": {
          "model_module": "@jupyter-widgets/base",
          "model_name": "LayoutModel",
          "model_module_version": "1.2.0",
          "state": {
            "_model_module": "@jupyter-widgets/base",
            "_model_module_version": "1.2.0",
            "_model_name": "LayoutModel",
            "_view_count": null,
            "_view_module": "@jupyter-widgets/base",
            "_view_module_version": "1.2.0",
            "_view_name": "LayoutView",
            "align_content": null,
            "align_items": null,
            "align_self": null,
            "border": null,
            "bottom": null,
            "display": null,
            "flex": null,
            "flex_flow": null,
            "grid_area": null,
            "grid_auto_columns": null,
            "grid_auto_flow": null,
            "grid_auto_rows": null,
            "grid_column": null,
            "grid_gap": null,
            "grid_row": null,
            "grid_template_areas": null,
            "grid_template_columns": null,
            "grid_template_rows": null,
            "height": null,
            "justify_content": null,
            "justify_items": null,
            "left": null,
            "margin": null,
            "max_height": null,
            "max_width": null,
            "min_height": null,
            "min_width": null,
            "object_fit": null,
            "object_position": null,
            "order": null,
            "overflow": null,
            "overflow_x": null,
            "overflow_y": null,
            "padding": null,
            "right": null,
            "top": null,
            "visibility": null,
            "width": null
          }
        },
        "261bcff7711b47f1b55286e4749d508a": {
          "model_module": "@jupyter-widgets/controls",
          "model_name": "DescriptionStyleModel",
          "model_module_version": "1.5.0",
          "state": {
            "_model_module": "@jupyter-widgets/controls",
            "_model_module_version": "1.5.0",
            "_model_name": "DescriptionStyleModel",
            "_view_count": null,
            "_view_module": "@jupyter-widgets/base",
            "_view_module_version": "1.2.0",
            "_view_name": "StyleView",
            "description_width": ""
          }
        },
        "f9cd5b7e271e422abcbe5bd1f5de5f9c": {
          "model_module": "@jupyter-widgets/base",
          "model_name": "LayoutModel",
          "model_module_version": "1.2.0",
          "state": {
            "_model_module": "@jupyter-widgets/base",
            "_model_module_version": "1.2.0",
            "_model_name": "LayoutModel",
            "_view_count": null,
            "_view_module": "@jupyter-widgets/base",
            "_view_module_version": "1.2.0",
            "_view_name": "LayoutView",
            "align_content": null,
            "align_items": null,
            "align_self": null,
            "border": null,
            "bottom": null,
            "display": null,
            "flex": null,
            "flex_flow": null,
            "grid_area": null,
            "grid_auto_columns": null,
            "grid_auto_flow": null,
            "grid_auto_rows": null,
            "grid_column": null,
            "grid_gap": null,
            "grid_row": null,
            "grid_template_areas": null,
            "grid_template_columns": null,
            "grid_template_rows": null,
            "height": null,
            "justify_content": null,
            "justify_items": null,
            "left": null,
            "margin": null,
            "max_height": null,
            "max_width": null,
            "min_height": null,
            "min_width": null,
            "object_fit": null,
            "object_position": null,
            "order": null,
            "overflow": null,
            "overflow_x": null,
            "overflow_y": null,
            "padding": null,
            "right": null,
            "top": null,
            "visibility": null,
            "width": null
          }
        },
        "efe1dafc282c4178b825710d6cd8a965": {
          "model_module": "@jupyter-widgets/controls",
          "model_name": "ProgressStyleModel",
          "model_module_version": "1.5.0",
          "state": {
            "_model_module": "@jupyter-widgets/controls",
            "_model_module_version": "1.5.0",
            "_model_name": "ProgressStyleModel",
            "_view_count": null,
            "_view_module": "@jupyter-widgets/base",
            "_view_module_version": "1.2.0",
            "_view_name": "StyleView",
            "bar_color": null,
            "description_width": ""
          }
        },
        "987b062d7c3745c686f807021a94b9d8": {
          "model_module": "@jupyter-widgets/base",
          "model_name": "LayoutModel",
          "model_module_version": "1.2.0",
          "state": {
            "_model_module": "@jupyter-widgets/base",
            "_model_module_version": "1.2.0",
            "_model_name": "LayoutModel",
            "_view_count": null,
            "_view_module": "@jupyter-widgets/base",
            "_view_module_version": "1.2.0",
            "_view_name": "LayoutView",
            "align_content": null,
            "align_items": null,
            "align_self": null,
            "border": null,
            "bottom": null,
            "display": null,
            "flex": null,
            "flex_flow": null,
            "grid_area": null,
            "grid_auto_columns": null,
            "grid_auto_flow": null,
            "grid_auto_rows": null,
            "grid_column": null,
            "grid_gap": null,
            "grid_row": null,
            "grid_template_areas": null,
            "grid_template_columns": null,
            "grid_template_rows": null,
            "height": null,
            "justify_content": null,
            "justify_items": null,
            "left": null,
            "margin": null,
            "max_height": null,
            "max_width": null,
            "min_height": null,
            "min_width": null,
            "object_fit": null,
            "object_position": null,
            "order": null,
            "overflow": null,
            "overflow_x": null,
            "overflow_y": null,
            "padding": null,
            "right": null,
            "top": null,
            "visibility": null,
            "width": null
          }
        },
        "860d2dbbd26b4b399c99810c55c08587": {
          "model_module": "@jupyter-widgets/controls",
          "model_name": "DescriptionStyleModel",
          "model_module_version": "1.5.0",
          "state": {
            "_model_module": "@jupyter-widgets/controls",
            "_model_module_version": "1.5.0",
            "_model_name": "DescriptionStyleModel",
            "_view_count": null,
            "_view_module": "@jupyter-widgets/base",
            "_view_module_version": "1.2.0",
            "_view_name": "StyleView",
            "description_width": ""
          }
        },
        "d074600cb0924f3fa4c247d107cfbd41": {
          "model_module": "@jupyter-widgets/controls",
          "model_name": "HBoxModel",
          "model_module_version": "1.5.0",
          "state": {
            "_dom_classes": [],
            "_model_module": "@jupyter-widgets/controls",
            "_model_module_version": "1.5.0",
            "_model_name": "HBoxModel",
            "_view_count": null,
            "_view_module": "@jupyter-widgets/controls",
            "_view_module_version": "1.5.0",
            "_view_name": "HBoxView",
            "box_style": "",
            "children": [
              "IPY_MODEL_0c3b468d5c774e8991e0293dcfff5feb",
              "IPY_MODEL_667876f8df70476ea01421ae05745793",
              "IPY_MODEL_ed8ee540465243a2a97f0094a2b23a50"
            ],
            "layout": "IPY_MODEL_c90989462f0b48098cfa702943fbdda2"
          }
        },
        "0c3b468d5c774e8991e0293dcfff5feb": {
          "model_module": "@jupyter-widgets/controls",
          "model_name": "HTMLModel",
          "model_module_version": "1.5.0",
          "state": {
            "_dom_classes": [],
            "_model_module": "@jupyter-widgets/controls",
            "_model_module_version": "1.5.0",
            "_model_name": "HTMLModel",
            "_view_count": null,
            "_view_module": "@jupyter-widgets/controls",
            "_view_module_version": "1.5.0",
            "_view_name": "HTMLView",
            "description": "",
            "description_tooltip": null,
            "layout": "IPY_MODEL_87d484feb7fd4c97ad4a69649c8491e2",
            "placeholder": "​",
            "style": "IPY_MODEL_2ea584f46a344324b16e28ddf91b30d7",
            "value": "100%"
          }
        },
        "667876f8df70476ea01421ae05745793": {
          "model_module": "@jupyter-widgets/controls",
          "model_name": "FloatProgressModel",
          "model_module_version": "1.5.0",
          "state": {
            "_dom_classes": [],
            "_model_module": "@jupyter-widgets/controls",
            "_model_module_version": "1.5.0",
            "_model_name": "FloatProgressModel",
            "_view_count": null,
            "_view_module": "@jupyter-widgets/controls",
            "_view_module_version": "1.5.0",
            "_view_name": "ProgressView",
            "bar_style": "success",
            "description": "",
            "description_tooltip": null,
            "layout": "IPY_MODEL_49a5e9e2a8354b11939665ccb72c0655",
            "max": 19,
            "min": 0,
            "orientation": "horizontal",
            "style": "IPY_MODEL_e648a3e9d53f4bb5bd0bbc78dda792cd",
            "value": 19
          }
        },
        "ed8ee540465243a2a97f0094a2b23a50": {
          "model_module": "@jupyter-widgets/controls",
          "model_name": "HTMLModel",
          "model_module_version": "1.5.0",
          "state": {
            "_dom_classes": [],
            "_model_module": "@jupyter-widgets/controls",
            "_model_module_version": "1.5.0",
            "_model_name": "HTMLModel",
            "_view_count": null,
            "_view_module": "@jupyter-widgets/controls",
            "_view_module_version": "1.5.0",
            "_view_name": "HTMLView",
            "description": "",
            "description_tooltip": null,
            "layout": "IPY_MODEL_6680d9acd8d647caa123f86a869b1795",
            "placeholder": "​",
            "style": "IPY_MODEL_a7b236d5cf424890b52775fdff27daf8",
            "value": " 19/19 [00:08&lt;00:00,  2.69it/s]"
          }
        },
        "c90989462f0b48098cfa702943fbdda2": {
          "model_module": "@jupyter-widgets/base",
          "model_name": "LayoutModel",
          "model_module_version": "1.2.0",
          "state": {
            "_model_module": "@jupyter-widgets/base",
            "_model_module_version": "1.2.0",
            "_model_name": "LayoutModel",
            "_view_count": null,
            "_view_module": "@jupyter-widgets/base",
            "_view_module_version": "1.2.0",
            "_view_name": "LayoutView",
            "align_content": null,
            "align_items": null,
            "align_self": null,
            "border": null,
            "bottom": null,
            "display": null,
            "flex": null,
            "flex_flow": null,
            "grid_area": null,
            "grid_auto_columns": null,
            "grid_auto_flow": null,
            "grid_auto_rows": null,
            "grid_column": null,
            "grid_gap": null,
            "grid_row": null,
            "grid_template_areas": null,
            "grid_template_columns": null,
            "grid_template_rows": null,
            "height": null,
            "justify_content": null,
            "justify_items": null,
            "left": null,
            "margin": null,
            "max_height": null,
            "max_width": null,
            "min_height": null,
            "min_width": null,
            "object_fit": null,
            "object_position": null,
            "order": null,
            "overflow": null,
            "overflow_x": null,
            "overflow_y": null,
            "padding": null,
            "right": null,
            "top": null,
            "visibility": null,
            "width": null
          }
        },
        "87d484feb7fd4c97ad4a69649c8491e2": {
          "model_module": "@jupyter-widgets/base",
          "model_name": "LayoutModel",
          "model_module_version": "1.2.0",
          "state": {
            "_model_module": "@jupyter-widgets/base",
            "_model_module_version": "1.2.0",
            "_model_name": "LayoutModel",
            "_view_count": null,
            "_view_module": "@jupyter-widgets/base",
            "_view_module_version": "1.2.0",
            "_view_name": "LayoutView",
            "align_content": null,
            "align_items": null,
            "align_self": null,
            "border": null,
            "bottom": null,
            "display": null,
            "flex": null,
            "flex_flow": null,
            "grid_area": null,
            "grid_auto_columns": null,
            "grid_auto_flow": null,
            "grid_auto_rows": null,
            "grid_column": null,
            "grid_gap": null,
            "grid_row": null,
            "grid_template_areas": null,
            "grid_template_columns": null,
            "grid_template_rows": null,
            "height": null,
            "justify_content": null,
            "justify_items": null,
            "left": null,
            "margin": null,
            "max_height": null,
            "max_width": null,
            "min_height": null,
            "min_width": null,
            "object_fit": null,
            "object_position": null,
            "order": null,
            "overflow": null,
            "overflow_x": null,
            "overflow_y": null,
            "padding": null,
            "right": null,
            "top": null,
            "visibility": null,
            "width": null
          }
        },
        "2ea584f46a344324b16e28ddf91b30d7": {
          "model_module": "@jupyter-widgets/controls",
          "model_name": "DescriptionStyleModel",
          "model_module_version": "1.5.0",
          "state": {
            "_model_module": "@jupyter-widgets/controls",
            "_model_module_version": "1.5.0",
            "_model_name": "DescriptionStyleModel",
            "_view_count": null,
            "_view_module": "@jupyter-widgets/base",
            "_view_module_version": "1.2.0",
            "_view_name": "StyleView",
            "description_width": ""
          }
        },
        "49a5e9e2a8354b11939665ccb72c0655": {
          "model_module": "@jupyter-widgets/base",
          "model_name": "LayoutModel",
          "model_module_version": "1.2.0",
          "state": {
            "_model_module": "@jupyter-widgets/base",
            "_model_module_version": "1.2.0",
            "_model_name": "LayoutModel",
            "_view_count": null,
            "_view_module": "@jupyter-widgets/base",
            "_view_module_version": "1.2.0",
            "_view_name": "LayoutView",
            "align_content": null,
            "align_items": null,
            "align_self": null,
            "border": null,
            "bottom": null,
            "display": null,
            "flex": null,
            "flex_flow": null,
            "grid_area": null,
            "grid_auto_columns": null,
            "grid_auto_flow": null,
            "grid_auto_rows": null,
            "grid_column": null,
            "grid_gap": null,
            "grid_row": null,
            "grid_template_areas": null,
            "grid_template_columns": null,
            "grid_template_rows": null,
            "height": null,
            "justify_content": null,
            "justify_items": null,
            "left": null,
            "margin": null,
            "max_height": null,
            "max_width": null,
            "min_height": null,
            "min_width": null,
            "object_fit": null,
            "object_position": null,
            "order": null,
            "overflow": null,
            "overflow_x": null,
            "overflow_y": null,
            "padding": null,
            "right": null,
            "top": null,
            "visibility": null,
            "width": null
          }
        },
        "e648a3e9d53f4bb5bd0bbc78dda792cd": {
          "model_module": "@jupyter-widgets/controls",
          "model_name": "ProgressStyleModel",
          "model_module_version": "1.5.0",
          "state": {
            "_model_module": "@jupyter-widgets/controls",
            "_model_module_version": "1.5.0",
            "_model_name": "ProgressStyleModel",
            "_view_count": null,
            "_view_module": "@jupyter-widgets/base",
            "_view_module_version": "1.2.0",
            "_view_name": "StyleView",
            "bar_color": null,
            "description_width": ""
          }
        },
        "6680d9acd8d647caa123f86a869b1795": {
          "model_module": "@jupyter-widgets/base",
          "model_name": "LayoutModel",
          "model_module_version": "1.2.0",
          "state": {
            "_model_module": "@jupyter-widgets/base",
            "_model_module_version": "1.2.0",
            "_model_name": "LayoutModel",
            "_view_count": null,
            "_view_module": "@jupyter-widgets/base",
            "_view_module_version": "1.2.0",
            "_view_name": "LayoutView",
            "align_content": null,
            "align_items": null,
            "align_self": null,
            "border": null,
            "bottom": null,
            "display": null,
            "flex": null,
            "flex_flow": null,
            "grid_area": null,
            "grid_auto_columns": null,
            "grid_auto_flow": null,
            "grid_auto_rows": null,
            "grid_column": null,
            "grid_gap": null,
            "grid_row": null,
            "grid_template_areas": null,
            "grid_template_columns": null,
            "grid_template_rows": null,
            "height": null,
            "justify_content": null,
            "justify_items": null,
            "left": null,
            "margin": null,
            "max_height": null,
            "max_width": null,
            "min_height": null,
            "min_width": null,
            "object_fit": null,
            "object_position": null,
            "order": null,
            "overflow": null,
            "overflow_x": null,
            "overflow_y": null,
            "padding": null,
            "right": null,
            "top": null,
            "visibility": null,
            "width": null
          }
        },
        "a7b236d5cf424890b52775fdff27daf8": {
          "model_module": "@jupyter-widgets/controls",
          "model_name": "DescriptionStyleModel",
          "model_module_version": "1.5.0",
          "state": {
            "_model_module": "@jupyter-widgets/controls",
            "_model_module_version": "1.5.0",
            "_model_name": "DescriptionStyleModel",
            "_view_count": null,
            "_view_module": "@jupyter-widgets/base",
            "_view_module_version": "1.2.0",
            "_view_name": "StyleView",
            "description_width": ""
          }
        }
      }
    },
    "accelerator": "GPU"
  },
  "nbformat": 4,
  "nbformat_minor": 0
}